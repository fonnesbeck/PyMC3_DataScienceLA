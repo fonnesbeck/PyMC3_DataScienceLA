{
 "cells": [
  {
   "cell_type": "markdown",
   "metadata": {},
   "source": [
    "# A (very) simple TrueSkill model"
   ]
  },
  {
   "cell_type": "markdown",
   "metadata": {},
   "source": [
    "The TrueSkill model (for details, see notebook 2b) is a probabilistic graphical model which is used in online gaming, in particular for XBox platform.\n",
    "\n",
    "The TrueSkill model is a replacement for the Chess ELO skill estimate system, which converges faster, handles team play and with approximate inference using message passing, can be run online for about 100M players.  The objective of the system is to find players, who are well matched in skills so that they have fun playing.\n",
    "\n",
    "TrueSkill models game outcomes based on **player skill** $s_i$, which affects **game performance** of an individual in a game. The performance in teams is estimates as the sum of performance of the team players. At this point, we diverge in our example and assume that the difference in performance predicts the difference in score.  The model is shown on the illustration below."
   ]
  },
  {
   "cell_type": "markdown",
   "metadata": {},
   "source": [
    "![Simplified TrueSkill schematic](images/simplified_trueskill.png \"Simplified TrueSkill schematic\")"
   ]
  },
  {
   "cell_type": "code",
   "execution_count": null,
   "metadata": {},
   "outputs": [],
   "source": [
    "import numpy as np\n",
    "import pandas as pd\n",
    "import matplotlib.pyplot as plt\n",
    "import seaborn as sns\n",
    "import theano.tensor as tt\n",
    "import theano\n",
    "\n",
    "%matplotlib inline\n",
    "sns.set_context('paper')\n",
    "sns.set_style('darkgrid')"
   ]
  },
  {
   "cell_type": "code",
   "execution_count": null,
   "metadata": {},
   "outputs": [],
   "source": [
    "score_differences_observed = [50, 40, 0, -10, 60, 35]\n",
    "\n",
    "# setup model\n",
    "with pm.Model() as simple_trueskill:\n",
    "    \n",
    "    mu0, sigma0 = 100, 10\n",
    "    beta = 5\n",
    "    gamma = 5\n",
    "    \n",
    "    s1 = pm.Normal('s1', mu=mu0, sd=sigma0)\n",
    "    s2 = pm.Normal('s2', mu=mu0, sd=sigma0)\n",
    "    s3 = pm.Normal('s3', mu=mu0, sd=sigma0)\n",
    "    s4 = pm.Normal('s4', mu=mu0, sd=sigma0)\n",
    "    \n",
    "    p1 = pm.Normal('p1', mu=s1, sd=beta)\n",
    "    p2 = pm.Normal('p2', mu=s2, sd=beta)\n",
    "    p3 = pm.Normal('p3', mu=s3, sd=beta)\n",
    "    p4 = pm.Normal('p4', mu=s4, sd=beta)\n",
    "    \n",
    "    t1 = pm.Deterministic('t1', p1+p2)\n",
    "    t2 = pm.Deterministic('t2', p3+p4)\n",
    "    \n",
    "    d12 = pm.Normal('d12', mu=t1-t2, sd=gamma, observed = score_differences_observed)"
   ]
  },
  {
   "cell_type": "code",
   "execution_count": null,
   "metadata": {},
   "outputs": [],
   "source": [
    "with simple_trueskill:\n",
    "    point_estimate = pm.find_MAP(model=simple_trueskill)\n",
    "    \n",
    "point_estimate"
   ]
  },
  {
   "cell_type": "code",
   "execution_count": null,
   "metadata": {},
   "outputs": [],
   "source": [
    "# fit model\n",
    "with simple_trueskill:\n",
    "    trace = pm.sample(draws=5000, tune=1000)"
   ]
  },
  {
   "cell_type": "code",
   "execution_count": null,
   "metadata": {},
   "outputs": [],
   "source": [
    "_ = pm.traceplot(trace, varnames=['s1', 's2', 's3', 's4'])"
   ]
  },
  {
   "cell_type": "markdown",
   "metadata": {},
   "source": [
    "### Exercises [easier]\n",
    "\n",
    "1. How do you interpret the results of the model?\n",
    "2. What if you already had prior information on one of the gamers, meaning their $\\sigma_0$ would be smaller and she would have possibly a different $\\mu_0$? What do you predict would happen if you modify the model that way?\n",
    "3. After updating the distributions they are no longer Normally distributed.  What could you do to continue updating if you see 5 more games played?"
   ]
  },
  {
   "cell_type": "markdown",
   "metadata": {},
   "source": [
    "### Exercise [harder]\n",
    "\n",
    "What if you only observed wins/losses/draws in the game?\n",
    "\n",
    "Here is a possible model, again inspired by TrueSkill but modified:\n",
    "- if $t_i - t_j > \\epsilon$, then $t_i$ wins with probability 90%, there is a draw with 9% probability and with 1% probability, team $i$ loses\n",
    "- if $|t_i - t_j| <= \\epsilon$, then $t_i$ and $t_j$ draw with 90% and win/lose situations (i.e. the complement) happen with 10% probability\n",
    "\n",
    "Let us set $\\epsilon = 10$.\n",
    "\n",
    "As a hint: add a factor potential per game to the likelihood into the model below.  "
   ]
  },
  {
   "cell_type": "code",
   "execution_count": null,
   "metadata": {},
   "outputs": [],
   "source": [
    "# games between players\n",
    "game_outcomes_observed = [1, 1, 0, -1, 1, 1]\n",
    "\n",
    "# setup model\n",
    "with pm.Model() as reduced_trueskill:\n",
    "    \n",
    "    mu0, sigma0 = 100, 10\n",
    "    beta = 5\n",
    "    gamma = 5\n",
    "    epsilon = 10\n",
    "    \n",
    "    s1 = pm.Normal('s1', mu=mu0, sd=sigma0)\n",
    "    s2 = pm.Normal('s2', mu=mu0, sd=sigma0)\n",
    "    \n",
    "    p1 = pm.Normal('p1', mu=s1, sd=beta)\n",
    "    p2 = pm.Normal('p2', mu=s2, sd=beta)\n",
    "        \n",
    "    game_potentials = []\n",
    "    for i,y in enumerate(game_outcomes_observed):\n",
    "        name = 'game_%d' % (i+1)\n",
    "        if y==0:\n",
    "            p = pm.Potential(name, pm.math.switch(pm.math.abs_(p1 - p2) < epsilon, np.log(0.9), np.log(0.1)))\n",
    "            game_potentials.append(p)\n",
    "        elif y==1:\n",
    "            p = pm.Potential(name, pm.math.switch(p1 - p2 > epsilon, np.log(0.9), \n",
    "                                                  pm.math.switch(p2 - p1 > epsilon, np.log(0.01), np.log(0.09))))\n",
    "            game_potentials.append(p)\n",
    "        elif y==-1:\n",
    "            p = pm.Potential(name, pm.math.switch(p2 - p1 > epsilon, np.log(0.9), \n",
    "                                                  pm.math.switch(p1 - p2 > epsilon, np.log(0.01), np.log(0.09))))\n",
    "            game_potentials.append(p)\n",
    "            "
   ]
  },
  {
   "cell_type": "code",
   "execution_count": null,
   "metadata": {},
   "outputs": [],
   "source": [
    "game_potentials"
   ]
  },
  {
   "cell_type": "code",
   "execution_count": null,
   "metadata": {},
   "outputs": [],
   "source": [
    "with reduced_trueskill:\n",
    "    m = pm.find_MAP(method='powell')\n",
    "print(m)"
   ]
  },
  {
   "cell_type": "markdown",
   "metadata": {},
   "source": [
    "The MAP solver is not really finding a direction in which to maximize the MAP."
   ]
  },
  {
   "cell_type": "code",
   "execution_count": null,
   "metadata": {},
   "outputs": [],
   "source": [
    "with reduced_trueskill:\n",
    "    tr = pm.sample(draws=20000, tune=1000, step=pm.Metropolis())"
   ]
  },
  {
   "cell_type": "code",
   "execution_count": null,
   "metadata": {},
   "outputs": [],
   "source": [
    "_ = pm.traceplot(tr, varnames=['s1', 's2'])"
   ]
  }
 ],
 "metadata": {
  "kernelspec": {
   "display_name": "Python 3",
   "language": "python",
   "name": "python3"
  },
  "language_info": {
   "codemirror_mode": {
    "name": "ipython",
    "version": 3
   },
   "file_extension": ".py",
   "mimetype": "text/x-python",
   "name": "python",
   "nbconvert_exporter": "python",
   "pygments_lexer": "ipython3",
   "version": "3.6.4"
  },
  "latex_envs": {
   "bibliofile": "biblio.bib",
   "cite_by": "apalike",
   "current_citInitial": 1,
   "eqLabelWithNumbers": true,
   "eqNumInitial": 0
  }
 },
 "nbformat": 4,
 "nbformat_minor": 2
}
