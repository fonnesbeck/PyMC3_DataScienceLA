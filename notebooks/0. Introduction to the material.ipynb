{
 "cells": [
  {
   "cell_type": "markdown",
   "metadata": {},
   "source": [
    "# Introduction to the material\n",
    "\n",
    "To increase the skill level of the team at [CEAi](http://ceai.io), we aim to keep organizing \"precision workshops\", or workshops where we maximize useful output for the group.  The main idea behind precision workshops is preparation such that all participants of the workshop are at approximately the same level and that level is already itself at least somewhat advanced.  Such preparation can result in a workshop that is useful for everyone, yet addresses advanced topics.\n",
    "\n",
    "This material is built (on top of other material, see credits) to facilitate preparation for our first precision workshop on Bayesian modelling in May 2018.\n",
    "\n",
    "The shape and form of the content was also inspired by the following quotes\n",
    "\n",
    ">  \"Don't ever stop programming.\" - Geoff Hinton, in [interview with Andrew Ng](https://www.youtube.com/watch?v=-eyhCTvrEtE)\n",
    "\n",
    ">  \"What people appreciated most about CS231n was that they would program everything from scratch, no libraries.\" - Andrej Karpathy, in [interview with Andrew Ng](https://www.youtube.com/watch?v=_au3yw46lcg)\n",
    "  "
   ]
  },
  {
   "cell_type": "markdown",
   "metadata": {},
   "source": [
    "## Objectives\n",
    "\n",
    "This material should get the reader acquainted with the following topics and the exercises serve to build a good grasp of each topic.\n",
    "\n",
    "- Basic proficiency in Bayesian modelling\n",
    "  - Commonly used probability distributions\n",
    "  - Construction of models from standard building blocks\n",
    "  - Understanding of PyMC3 as a vehicle to accomplish above tasks\n",
    "  - Clarity on various steps needed to write a model \n",
    "- Understanding inference via MCMC\n",
    "  - The Monte Carlo approach\n",
    "  - Sampling algorithms and their properties\n",
    "  - Markov Chain Monte Carlo as a method of estimating the posterior\n",
    "  - Understanding the Metropolis sampling algorithm in detail, testing how Metropolis fails, debugging it\n",
    "- Understand the idea of variational inference\n",
    "  - What is variational inference?\n",
    "  - Major differences between MCMC and variational approach\n",
    "  - The Evidence Lower Bound (ELBO)\n",
    "  - Mean field variational inference + example\n",
    "  \n",
    "At the end of the preparation the reader should be able to write and apply a simple Bayesian model from scratch using classical (albeit inefficient) methods including an MCMC sampler.\n",
    "  \n",
    "Also, last but not least: have fun!"
   ]
  },
  {
   "cell_type": "markdown",
   "metadata": {},
   "source": [
    "## Precision workshop 1 target content\n",
    "\n",
    "From there, the Precision workshop will further build upon this basis with key topics like:\n",
    "- Failure modes of advanced MCMC, diagnostics, corrections\n",
    "- Key advances in variational inference (ADVI)\n",
    "- Building great models - heuristics, criticism, experiences\n",
    "- Model checking - answer to the question: is my model ready for the real world?\n",
    "- Critiquing models of immediate interest in current startups at CEAi, consulting"
   ]
  },
  {
   "cell_type": "markdown",
   "metadata": {},
   "source": [
    "## Credits\n",
    "The original material on which these notebooks expand is the excellent [tutorial](https://github.com/fonnesbeck/PyMC3_DataScienceLA) by [Chris Fonnesbeck](https://twitter.com/fonnesbeck?lang=en) (published under CCL 1.0).\n",
    "\n",
    "We have tried to tweak the content and add new content to maximize explanatory power and reduce friction when learning but beware - Bayesian modelling is not an easy topic. This material is made available under the same license as the original tutorial by Chris Fonnesbeck (CCL 1.0).\n",
    "\n",
    "Other sources include:\n",
    "- Examples from [Getting started in PyMC3](http://docs.pymc.io/notebooks/getting_started.html) (Apache License 2.0)\n",
    "- Various talks by David MacKay, Ian Murray and others on the problem of inference\n",
    "\n",
    "Note that the much of the original material is left unchanged and the credit belongs to Chris Fonnesbeck."
   ]
  }
 ],
 "metadata": {
  "kernelspec": {
   "display_name": "Python 3",
   "language": "python",
   "name": "python3"
  },
  "language_info": {
   "codemirror_mode": {
    "name": "ipython",
    "version": 3
   },
   "file_extension": ".py",
   "mimetype": "text/x-python",
   "name": "python",
   "nbconvert_exporter": "python",
   "pygments_lexer": "ipython3",
   "version": "3.6.4"
  }
 },
 "nbformat": 4,
 "nbformat_minor": 2
}
