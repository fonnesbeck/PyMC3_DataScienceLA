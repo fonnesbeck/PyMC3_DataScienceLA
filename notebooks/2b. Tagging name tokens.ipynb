{
 "cells": [
  {
   "cell_type": "markdown",
   "metadata": {},
   "source": [
    "# Factor potentials: tagging name tokens"
   ]
  },
  {
   "cell_type": "markdown",
   "metadata": {},
   "source": [
    "## Objectives and takeaways\n",
    "\n",
    "1. Provide a case study on how a factor potential can be used in a model to prevent solutions inconsistent with expected model structure.\n",
    "\n",
    "In this exercise, we will start with an identified model (very simplified) of tagging a sequence of two tokens with its likely form, which can be one of \n",
    "`[Surname, GivenName, FirstInitial, LastInitial, Empty]`.\n",
    "\n",
    "Note that the structure of this exercise is much more complex than exercises we have done before."
   ]
  },
  {
   "cell_type": "markdown",
   "metadata": {},
   "source": [
    "### Problem statement\n",
    "\n",
    "The model receives an input of one or two words or initials and the result should be a set of tags that the model assigns to the words. Example:\n",
    "\n",
    "- `['John', 'Smith'] --> ['GivenName', 'Surname']`\n",
    "- `['Sculley', 'Dana'] --> ['Surname', 'GivenName']`\n",
    "- `['J.', 'Smith'] --> ['FirstInitial', 'Surname']`\n",
    "- `['Smith', 'J.'] --> ['Surname', 'FirstInitial']`\n",
    "- `['Smith'] --> ['Surname', 'Empty']`\n",
    "\n",
    "In our toy version of the problem we are only going to use three features for each token:\n",
    "- number of characters, int >= 0\n",
    "- presence of non-alphanumeric characters, 0/1\n",
    "- list of known words for which we actually have probabilities of them being surnames vs. given names. Of course we frequently do not have a name on our list, so this data can be unobserved.\n",
    "\n",
    "We first build part of our \"knowledge base\" and setup a preprocessing function and then introduce the structure of the model."
   ]
  },
  {
   "cell_type": "code",
   "execution_count": 1,
   "metadata": {
    "collapsed": true
   },
   "outputs": [
    {
     "name": "stderr",
     "output_type": "stream",
     "text": [
      "/Users/vejmelka/Packages/anaconda/envs/bayes/lib/python3.6/site-packages/h5py/__init__.py:36: FutureWarning: Conversion of the second argument of issubdtype from `float` to `np.floating` is deprecated. In future, it will be treated as `np.float64 == np.dtype(float).type`.\n",
      "  from ._conv import register_converters as _register_converters\n"
     ]
    }
   ],
   "source": [
    "import theano\n",
    "import theano.tensor as tt\n",
    "import pymc3 as pm\n",
    "import numpy as np"
   ]
  },
  {
   "cell_type": "code",
   "execution_count": 2,
   "metadata": {
    "collapsed": true
   },
   "outputs": [],
   "source": [
    "# We map the tags into integers for use with PyMC3\n",
    "token_tags = {'Surname' : 0,\n",
    "              'GivenName' : 1,\n",
    "              'FirstInitial' : 2,\n",
    "              'LastInitial' : 3,\n",
    "              'Empty' : 4}"
   ]
  },
  {
   "cell_type": "markdown",
   "metadata": {},
   "source": [
    "We build a probability table that represents the probabilities of the form\n",
    "`p(name='Gacs'|tag='surname')` under the assumption that the name token is observed, which means it is on our (very short list)."
   ]
  },
  {
   "cell_type": "code",
   "execution_count": 3,
   "metadata": {
    "collapsed": true
   },
   "outputs": [],
   "source": [
    "# List of \"known names\", mapped to integers 0..3\n",
    "name_mapping = dict(zip(['gacs', 'john', 'smith', 'mark'], range(6)))"
   ]
  },
  {
   "cell_type": "code",
   "execution_count": 4,
   "metadata": {},
   "outputs": [
    {
     "data": {
      "text/plain": [
       "[{'has_nonalpha': 1, 'known_name': -1, 'length': 2, 'tag': 2},\n",
       " {'has_nonalpha': 0, 'known_name': 2, 'length': 5, 'tag': 0}]"
      ]
     },
     "execution_count": 4,
     "metadata": {},
     "output_type": "execute_result"
    }
   ],
   "source": [
    "# function that maps a labeled example to features.\n",
    "#\n",
    "def encode_sample(name_toks):\n",
    "    fs = []\n",
    "    for i,(k,v) in enumerate(name_toks):\n",
    "        fs.append({\n",
    "            'tag': token_tags[k],\n",
    "            'length': len(v),\n",
    "            'has_nonalpha' : 1 if any([not ch.isalnum() for ch in v]) else 0,\n",
    "            'known_name' : -1 if type(v) != str else name_mapping.get(v.lower(), -1)})\n",
    "\n",
    "    # add an 'empty' tag if only one token is given\n",
    "    if len(name_toks) < 2:\n",
    "        fs.append({'tag' : 4,\n",
    "                   'length' : 0,\n",
    "                   'has_nonalpha' : 0,\n",
    "                   'known_name' : -1})\n",
    "    return fs\n",
    "\n",
    "\n",
    "# example\n",
    "encode_sample([('FirstInitial','J.'), ('Surname', 'Smith')])"
   ]
  },
  {
   "cell_type": "markdown",
   "metadata": {},
   "source": [
    "### Model structure\n",
    "\n",
    "The model (without factor potentials) is structured as shown on the image below\n",
    "\n",
    "![Without potential](images/tag_model_no_potential.png)\n",
    "\n",
    "So the posterior probability distribution can be written as\n",
    "\n",
    "$$f(\\text{tag1},\\text{tag2} \\mid w_1, l_1, a_1, w_2, l_2, a_2) \\;\\;\\; \\propto \\;\\;\\; f(w_1 \\mid \\text{tag1}) \\;\\;\\; f(a_1 \\mid \\text{tag1}) \\;\\;\\;  f(l_1 \\mid \\text{tag1}) \\;\\;\\; f(w_2 \\mid \\text{tag2}) \\;\\;\\; f(a_2 \\mid \\text{tag2}) \\;\\;\\; f(l_2 \\mid \\text{tag2}) \\;\\;\\; f(\\text{tag1}) \\;\\;\\; f(\\text{tag2})$$\n",
    "\n",
    "We further specify that:\n",
    "- the `length` of a word has a Poisson distribution with a rate parameter conditional on the tag. The rate parameters are stored as `length_poisson_rate`, an array indexed by tag\n",
    "- the probability of observing non-alpha numeric characters in a token is Bernoulli with probability $p$ again conditional on the tag, stored as an array `nonalpha_bernoulli_p`.  Non-alphanumeric characters (primarily dot) are expected only in initials and are unexpected in full names.\n",
    "- if a name is known to us (exists in our shortlist), the probability that we observe it is given by the array `name_prob`.  Thus assuming the tag is GivenName, then observing John is not surprising whereas observing the token Gacs is quite surprising (and thus is assigned low probability).\n",
    "\n",
    "Note that we assume that this model has already been fitted to some data (some of the values are indeed fitted to data, others are guessed) and we already have the parameters at hand. Those parameters are fitted below.  Please examine the model as written below and study the prior probabilities - check whether they are as you would expect."
   ]
  },
  {
   "cell_type": "markdown",
   "metadata": {},
   "source": [
    "### Testing the model\n",
    "In the cell below are prepared some examples which can be passed to the model.  Uncommenting one sample will execute the model on it.\n",
    "\n",
    "1. Please carefully examine the outputs and determine if it corresponds to the actual tags or not.\n",
    "2. In some cases, the model makes an incorrect decision, do you see why when you examine the parameters of the model?\n",
    "3. How could we fix this?"
   ]
  },
  {
   "cell_type": "code",
   "execution_count": 5,
   "metadata": {},
   "outputs": [
    {
     "data": {
      "text/plain": [
       "[{'has_nonalpha': 0, 'known_name': 2, 'length': 5, 'tag': 0},\n",
       " {'has_nonalpha': 1, 'known_name': -1, 'length': 2, 'tag': 2}]"
      ]
     },
     "execution_count": 5,
     "metadata": {},
     "output_type": "execute_result"
    }
   ],
   "source": [
    "#data = encode_sample([('Surname', 'Gacs')])\n",
    "#data = encode_sample([('GivenName', 'John')])\n",
    "#data = encode_sample([('Surname', 'Gacs'),('GivenName', 'Peter')])\n",
    "#data = encode_sample([('LastInitial', 'L.'), ('GivenName', 'John')])\n",
    "data = encode_sample([('Surname', 'Smith'), ('FirstInitial', 'J.')])\n",
    "data"
   ]
  },
  {
   "cell_type": "code",
   "execution_count": 6,
   "metadata": {},
   "outputs": [
    {
     "name": "stderr",
     "output_type": "stream",
     "text": [
      "Sequential sampling (1 chains in 1 job)\n",
      "CategoricalGibbsMetropolis: [tag2, tag1]\n",
      "100%|██████████| 2500/2500 [00:01<00:00, 1773.65it/s]\n",
      "Only one chain was sampled, this makes it impossible to run some convergence checks\n"
     ]
    },
    {
     "name": "stdout",
     "output_type": "stream",
     "text": [
      "Ground truth tags: tag1=0 tag2=2\n"
     ]
    },
    {
     "data": {
      "image/png": "[encoded data removed]",
      "text/plain": [
       "<Figure size 864x288 with 4 Axes>"
      ]
     },
     "metadata": {},
     "output_type": "display_data"
    }
   ],
   "source": [
    "with pm.Model() as name_model:\n",
    "    \n",
    "    # priors for specific tokens appearing in slot 1 and slot 2\n",
    "    tag1 = pm.Categorical('tag1', np.array([0.28, 0.696, 0.02, 0.001, 0.001]))\n",
    "    tag2 = pm.Categorical('tag2', np.array([0.31, 0.058, 0.002, 0.13, 0.5]))\n",
    "                        \n",
    "    # distribution of number of chars\n",
    "    length_poisson_rate = theano.shared(np.array([6., 6., 1., 1., 0.000001]))\n",
    "    # distribution of non_alphachars\n",
    "    nonalpha_bernoulli_p = theano.shared(np.array([0.001, 0.001, 0.8, 0.8, 0.001]))\n",
    "    # name probabilities for observed names given known tags (see list name_mapping a few cells above)\n",
    "    # p[1,2] is p(name='Smith'|tag='GivenName')\n",
    "    name_prob = np.vstack([[0.999, 0.001, 0.999, 0.9, 0.0], #surname\n",
    "                           [0.001, 0.999, 0.001, 0.1, 0.0], #givenname\n",
    "                           [0.001, 0.001, 0.001, 0.001, 0.0], #firstinitial\n",
    "                           [0.001, 0.001, 0.001, 0.001, 0.0], #lastinitial\n",
    "                           [0.001, 0.001, 0.001, 0.001, 0.001]]) #empty\n",
    "    known_name_categorical_p = theano.shared(np.array(name_prob))\n",
    "\n",
    "    # make sure each row adds to one\n",
    "    name_prob /= np.sum(name_prob, axis=1)[:, np.newaxis]\n",
    "    name_prob\n",
    "\n",
    "    len1 = pm.Poisson('len1', length_poisson_rate[tag1], observed = data[0]['length'])\n",
    "    non_alpha1 = pm.Bernoulli('non_alpha1', nonalpha_bernoulli_p[tag1], observed = data[0]['has_nonalpha'])\n",
    "    if data[0]['known_name'] >= 0:\n",
    "        w1 = pm.Categorical('known_word1', known_name_categorical_p[tag1,:], observed = data[0]['known_name'])\n",
    "        \n",
    "    len2 = pm.Poisson('len2', length_poisson_rate[tag2], observed = data[1]['length'])\n",
    "    non_alpha2 = pm.Bernoulli('non_alpha2', nonalpha_bernoulli_p[tag2], observed = data[1]['has_nonalpha'])\n",
    "    if data[1]['known_name'] >= 0:\n",
    "        w2 = pm.Categorical('known_word2', known_name_categorical_p[tag2,:], observed = data[1]['known_name'])\n",
    "    \n",
    "    tr = pm.sample(draws=2000, tune=500, chains=1)\n",
    "    \n",
    "    pm.traceplot(tr)\n",
    "\n",
    "# and print the actual tags\n",
    "# reminder: {'Surname' : 0, 'GivenName' : 1,'FirstInitial' : 2, 'LastInitial' : 3, 'Empty' : 4}\n",
    "print('Ground truth tags: tag1=%d tag2=%d' % (data[0]['tag'], data[1]['tag']))"
   ]
  },
  {
   "cell_type": "markdown",
   "metadata": {},
   "source": [
    "### Factor potential\n",
    "\n",
    "We now add a factor potential to the model which is multiplied with the rest of the model, so the full distribution is now:\n",
    "\n",
    "$$f(\\text{tag1},\\text{tag2} \\mid w_1, l_1, a_1, w_2, l_2, a_2) \\;\\;\\; \\propto \\;\\;\\; f(w_1 \\mid \\text{tag1}) \\;\\;\\; f(a_1 \\mid \\text{tag1}) \\;\\;\\;  f(l_1 \\mid \\text{tag1}) \\;\\;\\; f(w_2 \\mid \\text{tag2}) \\;\\;\\; f(a_2 \\mid \\text{tag2}) \\;\\;\\; f(l_2 \\mid \\text{tag2}) \\;\\;\\; f(\\text{tag1}) \\;\\;\\; f(\\text{tag2}) \\;\\;\\; \\mathbf{\\Psi(\\text{tag1},\\text{tag2})}.$$\n",
    "\n",
    "The new structure of the model is now as shown in the diagram.  The factor potential connects the two tag nodes and introduces a relationship between them that is encoded in the model as specified in the next cells.\n",
    "\n",
    "![Model with factor potential](images/tag_model_with_potential.png)\n",
    "\n",
    "Please analyse and try to understand what is the effect of the factor potential by running the examples.\n",
    "\n",
    "Run the same examples through this model as well and compare the output to the model above.  What is the difference and why is the difference there?"
   ]
  },
  {
   "cell_type": "code",
   "execution_count": 7,
   "metadata": {},
   "outputs": [
    {
     "data": {
      "text/plain": [
       "[{'has_nonalpha': 0, 'known_name': 2, 'length': 5, 'tag': 0},\n",
       " {'has_nonalpha': 1, 'known_name': -1, 'length': 2, 'tag': 2}]"
      ]
     },
     "execution_count": 7,
     "metadata": {},
     "output_type": "execute_result"
    }
   ],
   "source": [
    "# what data is going into the model? To change this, use the cell above the first model.\n",
    "data"
   ]
  },
  {
   "cell_type": "code",
   "execution_count": 8,
   "metadata": {},
   "outputs": [
    {
     "name": "stderr",
     "output_type": "stream",
     "text": [
      "Sequential sampling (1 chains in 1 job)\n",
      "CategoricalGibbsMetropolis: [tag2, tag1]\n",
      "100%|██████████| 2500/2500 [00:00<00:00, 3044.54it/s]\n",
      "Only one chain was sampled, this makes it impossible to run some convergence checks\n"
     ]
    },
    {
     "name": "stdout",
     "output_type": "stream",
     "text": [
      "Ground truth tags: tag1=0 tag2=2\n"
     ]
    },
    {
     "data": {
      "image/png": "[encoded data removed]",
      "text/plain": [
       "<Figure size 864x288 with 4 Axes>"
      ]
     },
     "metadata": {},
     "output_type": "display_data"
    }
   ],
   "source": [
    "with pm.Model() as name_model:\n",
    "    \n",
    "    # priors for specific tokens appearing in slot 1 and slot 2\n",
    "    tag1 = pm.Categorical('tag1', np.array([0.28, 0.696, 0.02, 0.001, 0.001]))\n",
    "    tag2 = pm.Categorical('tag2', np.array([0.31, 0.058, 0.002, 0.13, 0.5]))\n",
    "                        \n",
    "    # distribution of number of chars\n",
    "    length_poisson_rate = theano.shared(np.array([6., 6., 1., 1., 0.000001]))\n",
    "    # distribution of non_alphachars\n",
    "    nonalpha_bernoulli_p = theano.shared(np.array([0.001, 0.001, 0.8, 0.8, 0.001]))\n",
    "    # name probabilities for observed names given known tags (see list name_mapping a few cells above)\n",
    "    # p[1,2] is p(name='Smith'|tag='GivenName')\n",
    "    name_prob = np.vstack([[0.999, 0.001, 0.999, 0.9, 0.0], #surname\n",
    "                           [0.001, 0.999, 0.001, 0.1, 0.0], #givenname\n",
    "                           [0.001, 0.001, 0.001, 0.001, 0.0], #firstinitial\n",
    "                           [0.001, 0.001, 0.001, 0.001, 0.0], #lastinitial\n",
    "                           [0.001, 0.001, 0.001, 0.001, 0.001]]) #empty\n",
    "    known_name_categorical_p = theano.shared(np.array(name_prob))\n",
    "\n",
    "    # make sure each row adds to one\n",
    "    name_prob /= np.sum(name_prob, axis=1)[:, np.newaxis]\n",
    "    name_prob\n",
    "\n",
    "    len1 = pm.Poisson('len1', length_poisson_rate[tag1], observed = data[0]['length'])\n",
    "    non_alpha1 = pm.Bernoulli('non_alpha1', nonalpha_bernoulli_p[tag1], observed = data[0]['has_nonalpha'])\n",
    "    if data[0]['known_name'] >= 0:\n",
    "        w1 = pm.Categorical('known_word1', known_name_categorical_p[tag1,:], observed = data[0]['known_name'])\n",
    "        \n",
    "    len2 = pm.Poisson('len2', length_poisson_rate[tag2], observed = data[1]['length'])\n",
    "    non_alpha2 = pm.Bernoulli('non_alpha2', nonalpha_bernoulli_p[tag2], observed = data[1]['has_nonalpha'])\n",
    "    if data[1]['known_name'] >= 0:\n",
    "        w2 = pm.Categorical('known_word2', known_name_categorical_p[tag2,:], observed = data[1]['known_name'])\n",
    "    \n",
    "    # Potential term that encodes interactions between tokens\n",
    "    # Reminder: 'Surname' : 0, 'GivenName' : 1, 'FirstInitial' : 2, 'LastInitial' : 3, 'Empty' : 4\n",
    "    potential_p = theano.shared(np.log(np.vstack(\n",
    "        [[0.001, 0.8, 0.8, 0.001, 0.8],          #surname\n",
    "         [0.8, 0.001, 0.001, 0.8, 0.8],          #givenname\n",
    "         [0.8, 0.001, 0.001, 0.8, 0.8],          #firstinitial\n",
    "         [0.001, 0.8, 0.001, 0.001, 0.8],        #lastinitial\n",
    "         [0.001, 0.001, 0.001, 0.001, 0.001]]))) #empty\n",
    "    pm.Potential('potential_p', potential_p[tag1, tag2])\n",
    "    \n",
    "    tr = pm.sample(draws=2000, tune=500, chains=1)\n",
    "    \n",
    "    pm.traceplot(tr)\n",
    "\n",
    "# and print the actual tags\n",
    "# reminder: {'Surname' : 0, 'GivenName' : 1,'FirstInitial' : 2, 'LastInitial' : 3, 'Empty' : 4}\n",
    "print('Ground truth tags: tag1=%d tag2=%d' % (data[0]['tag'], data[1]['tag']))        "
   ]
  },
  {
   "cell_type": "markdown",
   "metadata": {},
   "source": [
    "## Conclusions\n",
    "\n",
    "We have examined the construction of models and the role of different tyes of variable.\n",
    "\n",
    "One of the building blocks is the factor potential. Factor potentials can establish a structure in the model output and thus eliminate predictions which are not compatible. Factor potentials conceptually introduce a symmetric term (corresponding to an undirected link in the model graph) into the posterior while hierarchical Bayesian terms correspond do directed relationships. We have studied this in two models in detail."
   ]
  }
 ],
 "metadata": {
  "kernelspec": {
   "display_name": "Python 3",
   "language": "python",
   "name": "python3"
  },
  "language_info": {
   "codemirror_mode": {
    "name": "ipython",
    "version": 3
   },
   "file_extension": ".py",
   "mimetype": "text/x-python",
   "name": "python",
   "nbconvert_exporter": "python",
   "pygments_lexer": "ipython3",
   "version": "3.6.4"
  },
  "latex_envs": {
   "bibliofile": "biblio.bib",
   "cite_by": "apalike",
   "current_citInitial": 1,
   "eqLabelWithNumbers": true,
   "eqNumInitial": 0
  },
  "toc": {
   "colors": {
    "hover_highlight": "#DAA520",
    "navigate_num": "#000000",
    "navigate_text": "#333333",
    "running_highlight": "#FF0000",
    "selected_highlight": "#FFD700",
    "sidebar_border": "#EEEEEE",
    "wrapper_background": "#FFFFFF"
   },
   "moveMenuLeft": true,
   "nav_menu": {
    "height": "498px",
    "width": "252px"
   },
   "navigate_menu": true,
   "number_sections": true,
   "sideBar": true,
   "threshold": 4,
   "toc_cell": false,
   "toc_section_display": "block",
   "toc_window_display": true,
   "widenNotebook": false
  }
 },
 "nbformat": 4,
 "nbformat_minor": 2
}
