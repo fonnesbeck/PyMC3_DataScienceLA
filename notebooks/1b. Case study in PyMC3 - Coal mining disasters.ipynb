{
 "cells": [
  {
   "cell_type": "markdown",
   "metadata": {},
   "source": [
    "# Case study in PyMC3: Coal mining disasters"
   ]
  },
  {
   "cell_type": "markdown",
   "metadata": {},
   "source": [
    "## Takeaways from this notebook\n",
    "- Examine a more complicated model that showcases some of the flexibility of Bayesian modelling.\n",
    "- Understand the ideas behind stochastic and deterministic constructions in PyMC3.\n",
    "- Get a sense of what's in a Variable object in PyMC3.\n",
    "- Learn to use the trace object that is a result of the MCMC sampling routines.\n",
    "- No need to examine samplers like the Slice sampler - we will study those later.\n",
    "- Refresh your memory regarding some common distributions we are likely to use in our work."
   ]
  },
  {
   "cell_type": "markdown",
   "metadata": {},
   "source": [
    "## Motivating Example: Coal mining disasters\n",
    "\n",
    "Consider the following time series of recorded coal mining disasters in the UK from 1851 to 1962 (Jarrett, 1979). The number of disasters is thought to have been affected by changes in safety regulations during this period.\n",
    "\n",
    "Let's build a model for this series and attempt to estimate when the change occurred. First we plot the data and specify the form of the model mathematically and proceed to encoded it in PyMC3 and run inference.\n",
    "\n",
    "### Notes on the model\n",
    "This model is more complicated than the previous GLM model and shows some of the flexibility of the Bayesian approach. The purpose of the model is to try and identify a discrete change in the rate of mining accidents. The model assumes that up to a certain year $\\tau$ the rate was $\\lambda_1$ while starting with $\\tau$ the rate is $\\lambda_2$.\n",
    "\n",
    "The prior on $\\tau$ is a discrete uniform distribution, since all years are equally likely to be the swiching point. The priors on the rates $\\lambda_i$ are exponential distributions. Using an exponential distribution results in the prior having more mass near zero, signifying that the experimenter expects low rates."
   ]
  },
  {
   "cell_type": "code",
   "execution_count": 1,
   "metadata": {},
   "outputs": [
    {
     "data": {
      "image/png": "[encoded data removed]",
      "text/plain": [
       "<matplotlib.figure.Figure at 0x104c32b38>"
      ]
     },
     "metadata": {},
     "output_type": "display_data"
    }
   ],
   "source": [
    "import numpy as np\n",
    "import matplotlib.pyplot as plt\n",
    "%matplotlib inline\n",
    "\n",
    "disasters_per_year_data = np.array([4, 5, 4, 0, 1, 4, 3, 4, 0, 6, 3, 3, 4, 0, 2, 6,\n",
    "                         3, 3, 5, 4, 5, 3, 1, 4, 4, 1, 5, 5, 3, 4, 2, 5,\n",
    "                         2, 2, 3, 4, 2, 1, 3, 2, 2, 1, 1, 1, 1, 3, 0, 0,\n",
    "                         1, 0, 1, 1, 0, 0, 3, 1, 0, 3, 2, 2, 0, 1, 1, 1,\n",
    "                         0, 1, 0, 1, 0, 0, 0, 2, 1, 0, 0, 0, 1, 1, 0, 2,\n",
    "                         3, 3, 1, 1, 2, 1, 1, 1, 1, 2, 4, 2, 0, 0, 1, 4,\n",
    "                         0, 0, 0, 1, 0, 0, 0, 0, 0, 1, 0, 0, 1, 0, 1])\n",
    "\n",
    "n_years = len(disasters_per_year_data)\n",
    "\n",
    "plt.figure(figsize=(12.5, 3.5))\n",
    "plt.bar(np.arange(1851, 1962), disasters_per_year_data, color=\"#348ABD\")\n",
    "plt.xlabel(\"Year\")\n",
    "plt.ylabel(\"# disasters in year\")\n",
    "plt.title(\"UK coal mining disasters, 1851-1962\")\n",
    "plt.xlim(1851, 1962);"
   ]
  },
  {
   "cell_type": "markdown",
   "metadata": {},
   "source": [
    "We represent our conceptual model formally as a statistical model, where we introduce shorthand notation in the table below, where the mathematical parameter is associated with the variable name in code and to a short description.\n",
    "\n",
    "$$\\begin{array}{|c|l|l|}\n",
    "\\hline\n",
    "y_t & \\text{disasters_per_year_data} & \\text{number of disasters} \\\\\n",
    "\\hline\n",
    "\\lambda_1 & \\text{early_mean} & \\text{mean number of disasters per year for years before} \n",
    "\\tau \\text{, Poisson parameter} \\\\\n",
    "\\hline\n",
    "\\lambda_2 & \\text{late_mean} & \\text{mean number of disasters per year for years}  \n",
    "\\tau \\text{and later, Poisson parameter} \\\\\n",
    "\\hline\n",
    "\\tau & \\text{switchpoint} & \\text{the year when the disaster rate makes a step change from } \\lambda_1 \\text{ to } \\lambda_2 \\\\\n",
    "\\hline\n",
    "r_t & \\text{rate} & \\text{the Poisson rate parameter for year } t \\text{ set depending on actual year to } \\lambda_1 \\text{ or } \\lambda_2 \\\\\n",
    "\\hline\n",
    "t_l & \\text{no variable, set to 0} & \\text{points to first year in the dataset, 0-indexed} \\\\\n",
    "\\hline\n",
    "t_h & \\text{no variable, set to #years} & \\text{points to last year in the dataset} \\\\\n",
    "\\hline\n",
    "a & \\text{no variable, set to 1} & \\text{parameter of the exponential prior for } \\lambda_1 \\\\\n",
    "\\hline\n",
    "b & \\text{no variable, set to 1} & \\text{parameter of the exponential prior for } \\lambda_2 \\\\\n",
    "\\hline\n",
    "\\end{array}\n",
    "$$\n",
    "\n",
    "**Note:** if you are not familiar with the Poisson and exponential distributions, there are exercises at the end of the notebook that should help.\n",
    "\n",
    "Using the above notation, we now introduce the model formulation:\n",
    "\n",
    "$$\\begin{array}{ccc}\n",
    "(y_t | \\tau, \\lambda_1, \\lambda_2) \\sim\\text{Poisson}\\left(r_t\\right), & r_t=\\left\\{\n",
    "\\begin{array}{lll}             \n",
    "\\lambda_1 &\\text{if}& t< \\tau\\\\ \n",
    "\\lambda_2 &\\text{if}& t\\ge \\tau             \n",
    "\\end{array}\\right.,&t\\in[t_l,t_h]\\\\         \n",
    "\\tau \\sim \\text{DiscreteUniform}(t_l, t_h)\\\\         \n",
    "\\lambda_1\\sim \\text{Exponential}(a)\\\\         \n",
    "\\lambda_2\\sim \\text{Exponential}(b)     \n",
    "\\end{array}$$\n",
    "\n",
    "Because we have defined $y$ by its dependence on $\\tau$, $\\lambda_1$ and $\\lambda_2$, the latter three are known as the *parents* of $y$, and $y$ is called their *child*. Similarly, the parents of $\\tau$ are $t_l$ and $t_h$, and $\\tau$ is the child of $t_l$ and $t_h$. The parameters $a$ and $b$ are the rate parameters of the prior exponential distribution and are set by the experimenter (in the model below $a=b=1$).\n",
    "\n",
    "## Implementing a PyMC Model\n",
    "\n",
    "At the model-specification stage (before the data are observed), $y$, $\\tau$, $\\lambda_1$, and $\\lambda_2$ are all random variables. Bayesian \"random\" variables have not necessarily arisen from a physical random process. The Bayesian interpretation of probability is **epistemic**, meaning random variable $x$'s probability distribution $p(x)$ represents our knowledge and uncertainty about $x$'s value. Candidate values of $x$ for which $p(x)$ is high are relatively more probable, given what we know. \n",
    "\n",
    "We can generally divide the variables in a Bayesian model into two types: **stochastic** and **deterministic**. The only deterministic variable in this model is $r$. If we knew the values of $r$'s parents, we could compute the value of $r$ exactly. A deterministic like $r$ is defined by a mathematical function that returns its value given values for its parents. Deterministic variables are sometimes called the *systemic* part of the model. The nomenclature is a bit confusing, because these objects usually represent random variables; since the parents of $r$ are random, $r$ is random also.\n",
    "\n",
    "On the other hand, even if the values of the parents of variables `switchpoint`, `disasters` (before observing the data), `early_mean` or `late_mean` were known, we would still be uncertain of their values. These variables are stochastic, characterized by probability distributions that express how plausible their candidate values are, given values for their parents.\n",
    "\n",
    "Let's begin by defining the unknown switchpoint as a discrete uniform random variable. Please note that in contrast to the formal definition, we define `switchpoint` on the interval from `0` to `n_years` here. It makes the things easier for us regarding the indexing."
   ]
  },
  {
   "cell_type": "code",
   "execution_count": 2,
   "metadata": {},
   "outputs": [
    {
     "name": "stderr",
     "output_type": "stream",
     "text": [
      "/Users/vejmelka/Packages/anaconda/envs/bayes/lib/python3.6/site-packages/h5py/__init__.py:36: FutureWarning: Conversion of the second argument of issubdtype from `float` to `np.floating` is deprecated. In future, it will be treated as `np.float64 == np.dtype(float).type`.\n",
      "  from ._conv import register_converters as _register_converters\n"
     ]
    }
   ],
   "source": [
    "from pymc3 import DiscreteUniform, Model\n",
    "\n",
    "with Model() as disaster_model:\n",
    "\n",
    "    switchpoint = DiscreteUniform('switchpoint', lower=0, upper=n_years)"
   ]
  },
  {
   "cell_type": "markdown",
   "metadata": {},
   "source": [
    "We have done two things here. First, we have created a `Model` object; a `Model` is a Python object that encapsulates all of the variables that comprise our theoretical model, keeping them in a single container so that they may be used as a unit. After a `Model` is created, we can populate it with all of the model components that we specified when we wrote the model down. \n",
    "\n",
    "Notice that the `Model` above was declared using a `with` statement. This expression is used to define a Python idiom known as a **context manager**. Context managers, in general, are used to manage resources of some kind within a program. In this case, our resource is a `Model`, and we would like to add variables to it so that we can fit our statistical model. The key characteristic of the context manager is that the resources it manages are only defined within the indented block corresponding to the `with` statement. PyMC uses this idiom to automatically add defined variables to a model. Thus, any variable we define is automatically added to the `Model`, without having to explicitly add it. This avoids the repetitive syntax of `add` methods/functions that you see in some machine learning packages:\n",
    "\n",
    "```python\n",
    "model.add(a_variable)\n",
    "model.add(another_variable)\n",
    "model.add(yet_another_variable)\n",
    "model.add(and_again)\n",
    "model.add(please_kill_me_now)\n",
    "...\n",
    "```\n",
    "\n",
    "In fact, PyMC variables cannot be defined without a corresponding `Model`:"
   ]
  },
  {
   "cell_type": "code",
   "execution_count": 3,
   "metadata": {},
   "outputs": [],
   "source": [
    "# remove comment to show error\n",
    "#oops = DiscreteUniform('oops', lower=0, upper=10)"
   ]
  },
  {
   "cell_type": "markdown",
   "metadata": {},
   "source": [
    "However, variables can be explicitly added to models without the use of a context manager, via the variable's optional `model` argument.\n",
    "\n",
    "```python\n",
    "disaster_model = Model()\n",
    "switchpoint = DiscreteUniform('switchpoint', lower=0, upper=110, model=disaster_model)\n",
    "```"
   ]
  },
  {
   "cell_type": "markdown",
   "metadata": {},
   "source": [
    "### Probability mass/density functions implemented in PyMC3\n",
    "\n",
    "PyMC3 includes most of the common random variable **distributions** used for statistical modeling."
   ]
  },
  {
   "cell_type": "code",
   "execution_count": 4,
   "metadata": {
    "collapsed": true
   },
   "outputs": [
    {
     "data": {
      "text/plain": [
       "['Uniform',\n",
       " 'Flat',\n",
       " 'HalfFlat',\n",
       " 'Normal',\n",
       " 'Beta',\n",
       " 'Exponential',\n",
       " 'Laplace',\n",
       " 'StudentT',\n",
       " 'Cauchy',\n",
       " 'HalfCauchy',\n",
       " 'Gamma',\n",
       " 'Weibull',\n",
       " 'Bound',\n",
       " 'Lognormal',\n",
       " 'HalfStudentT',\n",
       " 'StudentTpos',\n",
       " 'ChiSquared',\n",
       " 'HalfNormal',\n",
       " 'Wald',\n",
       " 'Pareto',\n",
       " 'InverseGamma',\n",
       " 'ExGaussian',\n",
       " 'VonMises',\n",
       " 'Binomial',\n",
       " 'BetaBinomial',\n",
       " 'Bernoulli',\n",
       " 'Poisson',\n",
       " 'NegativeBinomial',\n",
       " 'ConstantDist',\n",
       " 'Constant',\n",
       " 'ZeroInflatedPoisson',\n",
       " 'ZeroInflatedNegativeBinomial',\n",
       " 'ZeroInflatedBinomial',\n",
       " 'DiscreteUniform',\n",
       " 'Geometric',\n",
       " 'Categorical',\n",
       " 'DensityDist',\n",
       " 'Distribution',\n",
       " 'Continuous',\n",
       " 'Discrete',\n",
       " 'NoDistribution',\n",
       " 'TensorType',\n",
       " 'MvNormal',\n",
       " 'MvStudentT',\n",
       " 'Dirichlet',\n",
       " 'Multinomial',\n",
       " 'Wishart',\n",
       " 'WishartBartlett',\n",
       " 'LKJCholeskyCov',\n",
       " 'LKJCorr',\n",
       " 'AR1',\n",
       " 'AR',\n",
       " 'GaussianRandomWalk',\n",
       " 'MvGaussianRandomWalk',\n",
       " 'MvStudentTRandomWalk',\n",
       " 'GARCH11',\n",
       " 'SkewNormal',\n",
       " 'Mixture',\n",
       " 'NormalMixture',\n",
       " 'Triangular',\n",
       " 'DiscreteWeibull',\n",
       " 'Gumbel',\n",
       " 'Logistic',\n",
       " 'Interpolated',\n",
       " 'Bound']"
      ]
     },
     "execution_count": 4,
     "metadata": {},
     "output_type": "execute_result"
    }
   ],
   "source": [
    "from pymc3 import distributions\n",
    "distributions.__all__"
   ]
  },
  {
   "cell_type": "markdown",
   "metadata": {},
   "source": [
    "By having a library of variables that represent statistical distributions, users are relieved of having to code distrbutions themselves. "
   ]
  },
  {
   "cell_type": "markdown",
   "metadata": {},
   "source": [
    "Similarly, we can create the exponentially-distributed variables `early_mean` and `late_mean` for the early and late Poisson rates, respectively (also in the context of the model `distater_model`):"
   ]
  },
  {
   "cell_type": "code",
   "execution_count": 5,
   "metadata": {
    "collapsed": true
   },
   "outputs": [],
   "source": [
    "from pymc3 import Exponential\n",
    "\n",
    "with disaster_model:\n",
    "    \n",
    "    early_mean = Exponential('early_mean', 1)\n",
    "    late_mean = Exponential('late_mean', 1)"
   ]
  },
  {
   "cell_type": "markdown",
   "metadata": {},
   "source": [
    "Next, we define the variable `rate`, which selects the early rate `early_mean` for times before `switchpoint` and the late rate `late_mean` for times after `switchpoint`. We create `rate` using the `switch` function, which returns `early_mean` when the switchpoint is larger than (or equal to) a particular year, and `late_mean` otherwise.\n",
    "\n",
    "The `switch` function creates a _deterministic_ component `rate`, since there is no uncertainty in the value of `rate` given values of its parents. "
   ]
  },
  {
   "cell_type": "code",
   "execution_count": 6,
   "metadata": {
    "collapsed": true
   },
   "outputs": [],
   "source": [
    "from pymc3.math import switch\n",
    "\n",
    "with disaster_model:\n",
    "    \n",
    "    rate = switch(switchpoint >= np.arange(n_years), early_mean, late_mean)"
   ]
  },
  {
   "cell_type": "markdown",
   "metadata": {},
   "source": [
    "The last step is to define the **data likelihood**, or sampling distribution. In this case, our measured outcome is the number of disasters in each year, `disasters`. This is a stochastic variable but unlike `early_mean` and `late_mean` we have *observed* its value. To express this, we set the argument `observed` to the observed sequence of disasters. This tells PyMC that this distribution's value is fixed, and should not be changed:"
   ]
  },
  {
   "cell_type": "code",
   "execution_count": 7,
   "metadata": {
    "collapsed": true
   },
   "outputs": [],
   "source": [
    "from pymc3 import Poisson\n",
    "\n",
    "with disaster_model:\n",
    "    \n",
    "    disasters = Poisson('disasters', mu=rate, observed=disasters_per_year_data)"
   ]
  },
  {
   "cell_type": "markdown",
   "metadata": {},
   "source": [
    "> ### Why are data and unknown variables represented by the same object?\n",
    "\n",
    ">Since its represented by PyMC random variable object, `disasters` is defined by its dependence on its parent `rate` even though its value is **fixed**. This isn't just a quirk of PyMC's syntax; Bayesian hierarchical notation itself makes no distinction between random variables and data. The reason is simple: to use Bayes' theorem to compute the posterior, we require the likelihood. Even though `disasters`'s value is known and fixed, we need to formally assign it a *probability distribution* as if it were a random variable. Remember, the likelihood and the probability function are essentially the same, except that the former is regarded as a function of the parameters and the latter as a function of the data. This point can be counterintuitive at first, as many peoples' instinct is to regard data as fixed a priori and unknown variables as dependent on the data. \n",
    "\n",
    "> One way to understand this is to think of statistical models as predictive models for data, or as models of the processes that gave rise to data. Before observing the value of `disasters`, we could have sampled from its prior predictive distribution $p(y)$ (*i.e.* the marginal distribution of the data) as follows:\n",
    "\n",
    "> -   Sample `early_mean`, `switchpoint` and `late_mean` from their\n",
    ">     priors.\n",
    "> -   Sample `disasters` conditional on these values.\n",
    "\n",
    "> Even after we observe the value of `disasters`, we need to use this process model to make inferences about `early_mean` , `switchpoint` and `late_mean` because its the only information we have about how the variables are related.\n",
    "\n",
    "> We will see later that we can sample from this fixed stochastic random variable, to obtain predictions after having observed our data."
   ]
  },
  {
   "cell_type": "markdown",
   "metadata": {},
   "source": [
    "The model that we specified at the top of the page has now been fully implemented in PyMC3. Let's have a look at the model's attributes to see what we have.\n",
    "\n",
    "The stochastic nodes in the model are identified in the `vars` (*i.e.* variables) attribute:"
   ]
  },
  {
   "cell_type": "code",
   "execution_count": 8,
   "metadata": {
    "collapsed": true,
    "scrolled": true
   },
   "outputs": [
    {
     "data": {
      "text/plain": [
       "[switchpoint, early_mean_log__, late_mean_log__]"
      ]
     },
     "execution_count": 8,
     "metadata": {},
     "output_type": "execute_result"
    }
   ],
   "source": [
    "disaster_model.vars"
   ]
  },
  {
   "cell_type": "markdown",
   "metadata": {},
   "source": [
    "The last two variables are the log-transformed versions of the early and late rate parameters. In PyMC3, variables with purely positive priors like `Exponential` are **transformed** with a log function. This makes sampling more robust. Behind the scenes, a variable in the unconstrained space (named `<variable name>_log_`) is added to the model for sampling. In this model this happens behind the scenes. Variables with priors that constrain them on two sides, like `Beta` or `Uniform` (continuous), are also transformed to be unconstrained but with a log odds transform.\n",
    "\n",
    "The original variables have become deterministic nodes in the model, since they only represent values that have been back-transformed from the transformed variable, which has been subject to fitting or sampling."
   ]
  },
  {
   "cell_type": "code",
   "execution_count": 9,
   "metadata": {
    "collapsed": true
   },
   "outputs": [
    {
     "data": {
      "text/plain": [
       "[early_mean, late_mean]"
      ]
     },
     "execution_count": 9,
     "metadata": {},
     "output_type": "execute_result"
    }
   ],
   "source": [
    "disaster_model.deterministics"
   ]
  },
  {
   "cell_type": "markdown",
   "metadata": {},
   "source": [
    "You might wonder why `rate`, which is a deterministic component of the model, is not in this list. This is because, unlike the other components of the model, `rate` has not been given a name and given a formal PyMC data structure. It is essentially an **intermediate calculation** in the model, implying that we are not interested in its value when it comes to summarizing the output from the model. Most PyMC objects have a name assigned; these names are used for storage and post-processing:\n",
    "\n",
    "-   as keys in on-disk databases,\n",
    "-   as axis labels in plots of traces,\n",
    "-   as table labels in summary statistics.\n",
    "\n",
    "If we wish to include `rate` in our output, we need to make it a `Deterministic` object, and give it a name:"
   ]
  },
  {
   "cell_type": "code",
   "execution_count": 10,
   "metadata": {
    "collapsed": true
   },
   "outputs": [],
   "source": [
    "from pymc3 import Deterministic\n",
    "\n",
    "with disaster_model:\n",
    "    \n",
    "    rate = Deterministic('rate', switch(switchpoint >= np.arange(n_years), early_mean, late_mean))"
   ]
  },
  {
   "cell_type": "markdown",
   "metadata": {},
   "source": [
    "Now, `rate` is included in the `Model`'s deterministics list, and the model will retain its samples during MCMC sampling, for example."
   ]
  },
  {
   "cell_type": "code",
   "execution_count": 11,
   "metadata": {
    "collapsed": true
   },
   "outputs": [
    {
     "data": {
      "text/plain": [
       "[early_mean, late_mean, rate]"
      ]
     },
     "execution_count": 11,
     "metadata": {},
     "output_type": "execute_result"
    }
   ],
   "source": [
    "disaster_model.deterministics"
   ]
  },
  {
   "cell_type": "markdown",
   "metadata": {},
   "source": [
    "## PyMC3 Variables\n",
    "\n",
    "Each of the built-in statistical variables are subclasses of the generic `Distribution` class in PyMC3. The `Distribution` carries relevant **attributes** about the probability distribution, such as the data type (called `dtype`), any relevant transformations (`transform`, see below), and initial values (`init_value`)."
   ]
  },
  {
   "cell_type": "code",
   "execution_count": 12,
   "metadata": {
    "collapsed": true
   },
   "outputs": [
    {
     "data": {
      "text/plain": [
       "'int64'"
      ]
     },
     "execution_count": 12,
     "metadata": {},
     "output_type": "execute_result"
    }
   ],
   "source": [
    "disasters.dtype"
   ]
  },
  {
   "cell_type": "code",
   "execution_count": 13,
   "metadata": {
    "collapsed": true
   },
   "outputs": [
    {
     "data": {
      "text/plain": [
       "array(0.69314718)"
      ]
     },
     "execution_count": 13,
     "metadata": {},
     "output_type": "execute_result"
    }
   ],
   "source": [
    "early_mean.init_value"
   ]
  },
  {
   "cell_type": "markdown",
   "metadata": {},
   "source": [
    "PyMC's built-in distribution variables can also be used to generate **random values** from that variable. For example, the `switchpoint`, which is a discrete uniform random variable, can generate random draws:"
   ]
  },
  {
   "cell_type": "code",
   "execution_count": 14,
   "metadata": {
    "collapsed": true
   },
   "outputs": [
    {
     "data": {
      "image/png": "[encoded data removed]",
      "text/plain": [
       "<matplotlib.figure.Figure at 0x1c156effd0>"
      ]
     },
     "metadata": {},
     "output_type": "display_data"
    }
   ],
   "source": [
    "plt.hist(switchpoint.random(size=100000));"
   ]
  },
  {
   "cell_type": "markdown",
   "metadata": {},
   "source": [
    "As we noted earlier, some variables have undergone **transformations** prior to sampling. Such variables will have `transformed` attributes that points to the variable that it has been transformed to."
   ]
  },
  {
   "cell_type": "code",
   "execution_count": 15,
   "metadata": {
    "collapsed": true
   },
   "outputs": [
    {
     "data": {
      "text/plain": [
       "early_mean_log__"
      ]
     },
     "execution_count": 15,
     "metadata": {},
     "output_type": "execute_result"
    }
   ],
   "source": [
    "early_mean.transformed"
   ]
  },
  {
   "cell_type": "markdown",
   "metadata": {},
   "source": [
    "Variables will usually have an associated distribution, as determined by the constructor used to create it. For example, the `switchpoint` variable was created by calling `DiscreteUniform()`. Hence, its distribution is `DiscreteUniform`:"
   ]
  },
  {
   "cell_type": "code",
   "execution_count": 16,
   "metadata": {
    "collapsed": true
   },
   "outputs": [
    {
     "data": {
      "text/latex": [
       "$None \\sim \\text{DiscreteUniform}(\\mathit{lower}=f(f()), \\mathit{upper}=f(f()))$"
      ],
      "text/plain": [
       "<pymc3.distributions.discrete.DiscreteUniform at 0x104c1e940>"
      ]
     },
     "execution_count": 16,
     "metadata": {},
     "output_type": "execute_result"
    }
   ],
   "source": [
    "switchpoint.distribution"
   ]
  },
  {
   "cell_type": "markdown",
   "metadata": {},
   "source": [
    "As with all Python objects, the underlying type of a variable can be exposed with the `type()` function:"
   ]
  },
  {
   "cell_type": "code",
   "execution_count": 17,
   "metadata": {
    "collapsed": true
   },
   "outputs": [
    {
     "data": {
      "text/plain": [
       "pymc3.model.FreeRV"
      ]
     },
     "execution_count": 17,
     "metadata": {},
     "output_type": "execute_result"
    }
   ],
   "source": [
    "type(switchpoint)"
   ]
  },
  {
   "cell_type": "code",
   "execution_count": 18,
   "metadata": {
    "collapsed": true
   },
   "outputs": [
    {
     "data": {
      "text/plain": [
       "pymc3.model.ObservedRV"
      ]
     },
     "execution_count": 18,
     "metadata": {},
     "output_type": "execute_result"
    }
   ],
   "source": [
    "type(disasters)"
   ]
  },
  {
   "cell_type": "markdown",
   "metadata": {},
   "source": [
    "We will learn more about these types in an upcoming section."
   ]
  },
  {
   "cell_type": "markdown",
   "metadata": {},
   "source": [
    "## Variable log-probabilities\n",
    "\n",
    "All PyMC3 stochastic variables can evaluate their probability mass or density functions at a particular value, given the values of their parents. The **logarithm** of a stochastic object's probability mass or density can be\n",
    "accessed via the `logp` method.\n",
    "\n",
    "**Note**: the PyMC3 stochastic variables don't implement mass/density at all, only the logarithm.  An exponent must be applied to get the original density/mass."
   ]
  },
  {
   "cell_type": "code",
   "execution_count": 19,
   "metadata": {
    "collapsed": true,
    "scrolled": true
   },
   "outputs": [
    {
     "data": {
      "text/plain": [
       "array(-4.71849887)"
      ]
     },
     "execution_count": 19,
     "metadata": {},
     "output_type": "execute_result"
    }
   ],
   "source": [
    "switchpoint.logp({'switchpoint':15, 'early_mean_log__':1, 'late_mean_log__':1})"
   ]
  },
  {
   "cell_type": "markdown",
   "metadata": {},
   "source": [
    "For **vector-valued** variables like `disasters`, the `logp` attribute returns the **sum** of the logarithms of\n",
    "the joint probability or density of all elements of the value."
   ]
  },
  {
   "cell_type": "code",
   "execution_count": 20,
   "metadata": {
    "collapsed": true
   },
   "outputs": [
    {
     "data": {
      "text/plain": [
       "array(-225.5380749)"
      ]
     },
     "execution_count": 20,
     "metadata": {},
     "output_type": "execute_result"
    }
   ],
   "source": [
    "disasters.logp({'switchpoint':55, 'early_mean_log__':1, 'late_mean_log__':1})"
   ]
  },
  {
   "cell_type": "markdown",
   "metadata": {},
   "source": [
    "## Fitting the model with MCMC\n",
    "\n",
    "PyMC3's `sample` function will fit probability models (linked collections of variables) like ours using Markov chain Monte Carlo (MCMC) sampling. Unless we manually assign particular algorithms to variables in our model, PyMC will assign algorithms that it deems appropriate (it usually does a decent job of this):"
   ]
  },
  {
   "cell_type": "code",
   "execution_count": 21,
   "metadata": {
    "collapsed": true
   },
   "outputs": [
    {
     "name": "stderr",
     "output_type": "stream",
     "text": [
      "Assigned Metropolis to switchpoint\n",
      "Assigned NUTS to early_mean_log__\n",
      "Assigned NUTS to late_mean_log__\n",
      "/Users/vejmelka/Packages/anaconda/envs/bayes/lib/python3.6/site-packages/pymc3/model.py:384: FutureWarning: Conversion of the second argument of issubdtype from `float` to `np.floating` is deprecated. In future, it will be treated as `np.float64 == np.dtype(float).type`.\n",
      "  if not np.issubdtype(var.dtype, float):\n",
      "100%|██████████| 2500/2500 [00:02<00:00, 1197.24it/s]\n"
     ]
    }
   ],
   "source": [
    "from pymc3 import sample\n",
    "with disaster_model:\n",
    "    trace = sample(2000, init=None)"
   ]
  },
  {
   "cell_type": "markdown",
   "metadata": {},
   "source": [
    "This returns the Markov chain of draws from the model in a data structure called a **trace**."
   ]
  },
  {
   "cell_type": "code",
   "execution_count": 22,
   "metadata": {
    "collapsed": true
   },
   "outputs": [
    {
     "data": {
      "text/plain": [
       "<MultiTrace: 1 chains, 2000 iterations, 6 variables>"
      ]
     },
     "execution_count": 22,
     "metadata": {},
     "output_type": "execute_result"
    }
   ],
   "source": [
    "trace"
   ]
  },
  {
   "cell_type": "markdown",
   "metadata": {},
   "source": [
    "The `sample()` function always takes at least one argument, `draws`, which specifies how many samples to draw. However, there are a number of additional optional arguments that are worth knowing about:"
   ]
  },
  {
   "cell_type": "code",
   "execution_count": 23,
   "metadata": {
    "collapsed": true
   },
   "outputs": [
    {
     "name": "stdout",
     "output_type": "stream",
     "text": [
      "Help on function sample in module pymc3.sampling:\n",
      "\n",
      "sample(draws=500, step=None, init='auto', n_init=200000, start=None, trace=None, chain=0, njobs=1, tune=500, nuts_kwargs=None, step_kwargs=None, progressbar=True, model=None, random_seed=-1, live_plot=False, discard_tuned_samples=True, live_plot_kwargs=None, **kwargs)\n",
      "    Draw samples from the posterior using the given step methods.\n",
      "    \n",
      "    Multiple step methods are supported via compound step methods.\n",
      "    \n",
      "    Parameters\n",
      "    ----------\n",
      "    draws : int\n",
      "        The number of samples to draw. Defaults to 500. The number of tuned\n",
      "        samples are discarded by default. See discard_tuned_samples.\n",
      "    step : function or iterable of functions\n",
      "        A step function or collection of functions. If there are variables\n",
      "        without a step methods, step methods for those variables will\n",
      "        be assigned automatically.\n",
      "    init : str\n",
      "        Initialization method to use for auto-assigned NUTS samplers.\n",
      "    \n",
      "        * auto : Choose a default initialization method automatically.\n",
      "          Currently, this is `'jitter+adapt_diag'`, but this can change in\n",
      "          the future. If you depend on the exact behaviour, choose an\n",
      "          initialization method explicitly.\n",
      "        * adapt_diag : Start with a identity mass matrix and then adapt\n",
      "          a diagonal based on the variance of the tuning samples. All\n",
      "          chains use the test value (usually the prior mean) as starting\n",
      "          point.\n",
      "        * jitter+adapt_diag : Same as `adapt_diag`, but add uniform jitter\n",
      "          in [-1, 1] to the starting point in each chain.\n",
      "        * advi+adapt_diag : Run ADVI and then adapt the resulting diagonal\n",
      "          mass matrix based on the sample variance of the tuning samples.\n",
      "        * advi+adapt_diag_grad : Run ADVI and then adapt the resulting\n",
      "          diagonal mass matrix based on the variance of the gradients\n",
      "          during tuning. This is **experimental** and might be removed\n",
      "          in a future release.\n",
      "        * advi : Run ADVI to estimate posterior mean and diagonal mass\n",
      "          matrix.\n",
      "        * advi_map: Initialize ADVI with MAP and use MAP as starting point.\n",
      "        * map : Use the MAP as starting point. This is discouraged.\n",
      "        * nuts : Run NUTS and estimate posterior mean and mass matrix from\n",
      "          the trace.\n",
      "    n_init : int\n",
      "        Number of iterations of initializer\n",
      "        If 'ADVI', number of iterations, if 'nuts', number of draws.\n",
      "    start : dict, or array of dict\n",
      "        Starting point in parameter space (or partial point)\n",
      "        Defaults to trace.point(-1)) if there is a trace provided and\n",
      "        model.test_point if not (defaults to empty dict).\n",
      "    trace : backend, list, or MultiTrace\n",
      "        This should be a backend instance, a list of variables to track,\n",
      "        or a MultiTrace object with past values. If a MultiTrace object\n",
      "        is given, it must contain samples for the chain number `chain`.\n",
      "        If None or a list of variables, the NDArray backend is used.\n",
      "        Passing either \"text\" or \"sqlite\" is taken as a shortcut to set\n",
      "        up the corresponding backend (with \"mcmc\" used as the base\n",
      "        name).\n",
      "    chain : int\n",
      "        Chain number used to store sample in backend. If `njobs` is\n",
      "        greater than one, chain numbers will start here.\n",
      "    njobs : int\n",
      "        Number of parallel jobs to start. If None, set to number of cpus\n",
      "        in the system - 2.\n",
      "    tune : int\n",
      "        Number of iterations to tune, if applicable (defaults to 500).\n",
      "        These samples will be drawn in addition to samples and discarded\n",
      "        unless discard_tuned_samples is set to True.\n",
      "    nuts_kwargs : dict\n",
      "        Options for the NUTS sampler. See the docstring of NUTS\n",
      "        for a complete list of options. Common options are\n",
      "    \n",
      "        * target_accept: float in [0, 1]. The step size is tuned such\n",
      "          that we approximate this acceptance rate. Higher values like 0.9\n",
      "          or 0.95 often work better for problematic posteriors.\n",
      "        * max_treedepth: The maximum depth of the trajectory tree.\n",
      "        * step_scale: float, default 0.25\n",
      "          The initial guess for the step size scaled down by `1/n**(1/4)`.\n",
      "    \n",
      "        If you want to pass options to other step methods, please use\n",
      "        `step_kwargs`.\n",
      "    step_kwargs : dict\n",
      "        Options for step methods. Keys are the lower case names of\n",
      "        the step method, values are dicts of keyword arguments.\n",
      "        You can find a full list of arguments in the docstring of\n",
      "        the step methods. If you want to pass arguments only to nuts,\n",
      "        you can use `nuts_kwargs`.\n",
      "    progressbar : bool\n",
      "        Whether or not to display a progress bar in the command line. The\n",
      "        bar shows the percentage of completion, the sampling speed in\n",
      "        samples per second (SPS), and the estimated remaining time until\n",
      "        completion (\"expected time of arrival\"; ETA).\n",
      "    model : Model (optional if in `with` context)\n",
      "    random_seed : int or list of ints\n",
      "        A list is accepted if more if `njobs` is greater than one.\n",
      "    live_plot : bool\n",
      "        Flag for live plotting the trace while sampling\n",
      "    live_plot_kwargs : dict\n",
      "        Options for traceplot. Example: live_plot_kwargs={'varnames': ['x']}\n",
      "    discard_tuned_samples : bool\n",
      "        Whether to discard posterior samples of the tune interval.\n",
      "    \n",
      "    Returns\n",
      "    -------\n",
      "    trace : pymc3.backends.base.MultiTrace\n",
      "        A `MultiTrace` object that contains the samples.\n",
      "    \n",
      "    Examples\n",
      "    --------\n",
      "    .. code:: ipython\n",
      "    \n",
      "        >>> import pymc3 as pm\n",
      "        ... n = 100\n",
      "        ... h = 61\n",
      "        ... alpha = 2\n",
      "        ... beta = 2\n",
      "    \n",
      "    .. code:: ipython\n",
      "    \n",
      "        >>> with pm.Model() as model: # context management\n",
      "        ...     p = pm.Beta('p', alpha=alpha, beta=beta)\n",
      "        ...     y = pm.Binomial('y', n=n, p=p, observed=h)\n",
      "        ...     trace = pm.sample(2000, tune=1000, njobs=4)\n",
      "        >>> pm.df_summary(trace)\n",
      "               mean        sd  mc_error   hpd_2.5  hpd_97.5\n",
      "        p  0.604625  0.047086   0.00078  0.510498  0.694774\n",
      "\n"
     ]
    }
   ],
   "source": [
    "help(sample)"
   ]
  },
  {
   "cell_type": "markdown",
   "metadata": {},
   "source": [
    "The `step` argument is what allows users to manually override the sampling algorithms used to fit the model. For example, if we wanted to use a **slice sampler** to sample the `early_mean` and `late_mean` variables, we could specify it:"
   ]
  },
  {
   "cell_type": "code",
   "execution_count": 24,
   "metadata": {
    "collapsed": true
   },
   "outputs": [
    {
     "name": "stderr",
     "output_type": "stream",
     "text": [
      "Assigned Metropolis to switchpoint\n",
      "100%|██████████| 1500/1500 [00:01<00:00, 1057.52it/s]\n"
     ]
    }
   ],
   "source": [
    "from pymc3 import Slice\n",
    "\n",
    "with disaster_model:\n",
    "    step_trace = sample(draws=1000, tune=500, step=Slice(vars=[early_mean, late_mean]))"
   ]
  },
  {
   "cell_type": "markdown",
   "metadata": {},
   "source": [
    "### Accessing the samples\n",
    "\n",
    "The output of the `sample` function is a `MultiTrace` object, which stores the sequence of samples for each variable in the model. These traces can be accessed using dict-style indexing:\n"
   ]
  },
  {
   "cell_type": "code",
   "execution_count": 25,
   "metadata": {
    "collapsed": true,
    "scrolled": false
   },
   "outputs": [
    {
     "data": {
      "text/plain": [
       "array([0.97691339, 0.8593903 , 0.8593903 , ..., 1.0976925 , 0.86230336,\n",
       "       0.9493343 ])"
      ]
     },
     "execution_count": 25,
     "metadata": {},
     "output_type": "execute_result"
    }
   ],
   "source": [
    "trace['late_mean']"
   ]
  },
  {
   "cell_type": "markdown",
   "metadata": {},
   "source": [
    "The trace can also be sliced using the NumPy array slice `[start:stop:step]`. "
   ]
  },
  {
   "cell_type": "code",
   "execution_count": 26,
   "metadata": {
    "collapsed": true
   },
   "outputs": [
    {
     "data": {
      "text/plain": [
       "array([0.79062696, 0.7521224 , 1.0976925 , 0.86230336, 0.9493343 ])"
      ]
     },
     "execution_count": 26,
     "metadata": {},
     "output_type": "execute_result"
    }
   ],
   "source": [
    "trace['late_mean', -5:]"
   ]
  },
  {
   "cell_type": "code",
   "execution_count": 27,
   "metadata": {
    "collapsed": true
   },
   "outputs": [
    {
     "data": {
      "text/plain": [
       "array([0.97691339, 0.79282875, 0.97003603, 0.87403658, 1.13442519,\n",
       "       0.88377798, 0.98062735, 1.18543911, 0.87415509, 0.99760251,\n",
       "       0.89585376, 1.04967998, 1.08346746, 1.06135032, 0.84426153,\n",
       "       0.94392936, 0.94500156, 0.87985231, 0.74147734, 1.0852932 ,\n",
       "       0.79887494, 0.8198484 , 0.83627208, 1.14353988, 0.98219849,\n",
       "       0.93089869, 0.86513446, 0.94007404, 0.802712  , 1.05553519,\n",
       "       0.90320674, 1.05879637, 0.99368979, 0.78111421, 0.91665564,\n",
       "       1.04923706, 1.00587502, 1.08057812, 0.71285388, 0.94380174,\n",
       "       0.9679154 , 0.98230056, 0.86409079, 0.766436  , 1.09673408,\n",
       "       0.91401395, 0.83473587, 0.93739799, 0.79389416, 1.09862627,\n",
       "       0.89364966, 1.01147718, 0.93588903, 0.91706942, 0.90381493,\n",
       "       0.80432349, 0.8604784 , 1.01307346, 0.86162917, 1.03217562,\n",
       "       0.97398197, 0.84266758, 0.97519069, 1.00604994, 0.94284434,\n",
       "       0.89454143, 0.9200914 , 0.9240418 , 1.18215324, 0.87106822,\n",
       "       0.97297978, 0.96151729, 0.81271745, 0.75739162, 0.83349319,\n",
       "       0.92377057, 0.94557696, 0.90819649, 0.92256932, 0.68700102,\n",
       "       0.74909388, 0.93951786, 0.97420428, 0.70300235, 0.94736614,\n",
       "       0.81253995, 1.14811181, 0.82535385, 0.83115362, 1.04727642,\n",
       "       1.07535985, 0.99439647, 0.96762415, 0.8983193 , 0.95380946,\n",
       "       1.20253436, 0.96789252, 0.90254732, 0.9912127 , 1.07199543,\n",
       "       0.75556953, 1.04220212, 0.9951728 , 0.79166033, 1.16714225,\n",
       "       0.97449744, 0.88118123, 0.90044455, 0.84110272, 0.93310167,\n",
       "       0.84864523, 0.77418639, 0.87441956, 0.96634124, 0.81976286,\n",
       "       0.78960626, 0.76487887, 0.81789129, 1.06744855, 0.85842506,\n",
       "       0.87330956, 0.97400974, 0.86033125, 0.91846339, 0.75597233,\n",
       "       0.9611305 , 0.83092166, 0.9647071 , 1.01181483, 1.05881723,\n",
       "       0.89113814, 0.97437723, 1.08781566, 1.03465072, 1.00646608,\n",
       "       0.99602251, 0.90923294, 0.95356087, 0.8936582 , 0.69118707,\n",
       "       0.91636933, 0.90844117, 0.92205898, 1.14010207, 1.04295891,\n",
       "       0.74356306, 1.04633646, 0.94441899, 1.06833693, 1.00629964,\n",
       "       1.01353865, 1.23711391, 1.12592737, 1.05917414, 0.98725065,\n",
       "       0.87634098, 0.97276997, 0.77862621, 1.04609417, 1.02370698,\n",
       "       0.78380863, 0.9712179 , 1.01508865, 1.01645446, 1.0582799 ,\n",
       "       0.90402797, 0.85391917, 0.92164073, 0.8859867 , 0.938303  ,\n",
       "       0.79908603, 0.89733556, 0.92084153, 0.71400447, 0.91538497,\n",
       "       1.07953046, 0.79721713, 1.14202505, 0.72369074, 0.78294443,\n",
       "       0.7575651 , 1.07815875, 0.59856929, 1.13594527, 0.87044476,\n",
       "       0.83255097, 1.01885129, 0.87956864, 0.96660548, 1.20913077,\n",
       "       0.71027005, 0.98844869, 1.16709848, 1.09261738, 0.93135456,\n",
       "       0.61399061, 0.9933539 , 0.89015225, 0.85320945, 0.81873171])"
      ]
     },
     "execution_count": 27,
     "metadata": {},
     "output_type": "execute_result"
    }
   ],
   "source": [
    "trace['late_mean', ::10]"
   ]
  },
  {
   "cell_type": "markdown",
   "metadata": {},
   "source": [
    "### Sampling output\n",
    "\n",
    "You can examine the marginal posterior of any variable by plotting a\n",
    "histogram of its trace:"
   ]
  },
  {
   "cell_type": "code",
   "execution_count": 28,
   "metadata": {
    "collapsed": true
   },
   "outputs": [
    {
     "data": {
      "image/png": "[encoded data removed]",
      "text/plain": [
       "<matplotlib.figure.Figure at 0x1c17267dd8>"
      ]
     },
     "metadata": {},
     "output_type": "display_data"
    }
   ],
   "source": [
    "plt.hist(trace['late_mean']);"
   ]
  },
  {
   "cell_type": "markdown",
   "metadata": {},
   "source": [
    "PyMC has its own plotting functionality dedicated to plotting MCMC output. For example, we can obtain a time series plot of the trace and a histogram using `traceplot`:"
   ]
  },
  {
   "cell_type": "code",
   "execution_count": 29,
   "metadata": {
    "collapsed": true
   },
   "outputs": [
    {
     "data": {
      "image/png": "[encoded data removed]",
      "text/plain": [
       "<matplotlib.figure.Figure at 0x1c16fc5358>"
      ]
     },
     "metadata": {},
     "output_type": "display_data"
    }
   ],
   "source": [
    "from pymc3 import traceplot\n",
    "\n",
    "traceplot(trace[500:], varnames=['early_mean', 'late_mean', 'switchpoint']);"
   ]
  },
  {
   "cell_type": "markdown",
   "metadata": {},
   "source": [
    "The upper left-hand pane of each figure shows the temporal series of the\n",
    "samples from each parameter, while below is an autocorrelation plot of\n",
    "the samples. The right-hand pane shows a histogram of the trace. The\n",
    "trace is useful for evaluating and diagnosing the algorithm's\n",
    "performance, while the histogram is useful for\n",
    "visualizing the posterior.\n",
    "\n",
    "For a non-graphical summary of the posterior, simply call the `summary` method."
   ]
  },
  {
   "cell_type": "code",
   "execution_count": 30,
   "metadata": {
    "collapsed": true
   },
   "outputs": [
    {
     "name": "stdout",
     "output_type": "stream",
     "text": [
      "\n",
      "early_mean:\n",
      "\n",
      "  Mean             SD               MC Error         95% HPD interval\n",
      "  -------------------------------------------------------------------\n",
      "  \n",
      "  3.064            0.278            0.009            [2.537, 3.583]\n",
      "\n",
      "  Posterior quantiles:\n",
      "  2.5            25             50             75             97.5\n",
      "  |--------------|==============|==============|--------------|\n",
      "  \n",
      "  2.552          2.872          3.062          3.250          3.633\n",
      "\n",
      "\n",
      "late_mean:\n",
      "\n",
      "  Mean             SD               MC Error         95% HPD interval\n",
      "  -------------------------------------------------------------------\n",
      "  \n",
      "  0.941            0.118            0.004            [0.721, 1.173]\n",
      "\n",
      "  Posterior quantiles:\n",
      "  2.5            25             50             75             97.5\n",
      "  |--------------|==============|==============|--------------|\n",
      "  \n",
      "  0.721          0.857          0.942          1.017          1.173\n",
      "\n"
     ]
    }
   ],
   "source": [
    "from pymc3 import summary\n",
    "\n",
    "summary(trace[500:], varnames=['early_mean', 'late_mean'])"
   ]
  },
  {
   "cell_type": "markdown",
   "metadata": {},
   "source": [
    "## PW Exercise\n",
    "Here we have more detail about the sample function and we have observed its output in detail. Important parameters for us now are **draws** and **tune**, which affect how many samples are drawn and how long the chain runs to stabilize before beginning sampling.\n",
    "\n",
    "- Note that the model contains a switchpoint variable and is not end-to-end differntiable.\n",
    "- Play around with the paraemters (hint: reduce both draws, tune) and re-run the cells above.\n",
    "- Observe warnings emitted by the internal diagnostics of PyMC3.\n",
    "- Observe how the output changes when you sample more/less.\n",
    "- Get a feel for the variability in this model.\n",
    "- No need to dig deeper into this or try to study details - we will do that later."
   ]
  },
  {
   "cell_type": "markdown",
   "metadata": {},
   "source": [
    "# Revisiting probability distributions\n",
    "Let us revisit the list of distributions above and examine some of them in more detail.\n"
   ]
  },
  {
   "cell_type": "code",
   "execution_count": 31,
   "metadata": {
    "collapsed": true
   },
   "outputs": [
    {
     "data": {
      "text/plain": [
       "['Uniform',\n",
       " 'Flat',\n",
       " 'HalfFlat',\n",
       " 'Normal',\n",
       " 'Beta',\n",
       " 'Exponential',\n",
       " 'Laplace',\n",
       " 'StudentT',\n",
       " 'Cauchy',\n",
       " 'HalfCauchy',\n",
       " 'Gamma',\n",
       " 'Weibull',\n",
       " 'Bound',\n",
       " 'Lognormal',\n",
       " 'HalfStudentT',\n",
       " 'StudentTpos',\n",
       " 'ChiSquared',\n",
       " 'HalfNormal',\n",
       " 'Wald',\n",
       " 'Pareto',\n",
       " 'InverseGamma',\n",
       " 'ExGaussian',\n",
       " 'VonMises',\n",
       " 'Binomial',\n",
       " 'BetaBinomial',\n",
       " 'Bernoulli',\n",
       " 'Poisson',\n",
       " 'NegativeBinomial',\n",
       " 'ConstantDist',\n",
       " 'Constant',\n",
       " 'ZeroInflatedPoisson',\n",
       " 'ZeroInflatedNegativeBinomial',\n",
       " 'ZeroInflatedBinomial',\n",
       " 'DiscreteUniform',\n",
       " 'Geometric',\n",
       " 'Categorical',\n",
       " 'DensityDist',\n",
       " 'Distribution',\n",
       " 'Continuous',\n",
       " 'Discrete',\n",
       " 'NoDistribution',\n",
       " 'TensorType',\n",
       " 'MvNormal',\n",
       " 'MvStudentT',\n",
       " 'Dirichlet',\n",
       " 'Multinomial',\n",
       " 'Wishart',\n",
       " 'WishartBartlett',\n",
       " 'LKJCholeskyCov',\n",
       " 'LKJCorr',\n",
       " 'AR1',\n",
       " 'AR',\n",
       " 'GaussianRandomWalk',\n",
       " 'MvGaussianRandomWalk',\n",
       " 'MvStudentTRandomWalk',\n",
       " 'GARCH11',\n",
       " 'SkewNormal',\n",
       " 'Mixture',\n",
       " 'NormalMixture',\n",
       " 'Triangular',\n",
       " 'DiscreteWeibull',\n",
       " 'Gumbel',\n",
       " 'Logistic',\n",
       " 'Interpolated',\n",
       " 'Bound']"
      ]
     },
     "execution_count": 31,
     "metadata": {},
     "output_type": "execute_result"
    }
   ],
   "source": [
    "distributions.__all__"
   ]
  },
  {
   "cell_type": "markdown",
   "metadata": {},
   "source": [
    "## Important distributions\n",
    "Please make sure you're familiar with the form and parameters of the following distributions:\n",
    "- Uniform\n",
    "- Normal\n",
    "- Exponential\n",
    "- Poisson\n",
    "- Beta\n",
    "- Binomial\n",
    "- Bernoulli\n",
    "- NegativeBinomial\n",
    "- Multinomial\n",
    "- Gamma\n",
    "- StudentT"
   ]
  },
  {
   "cell_type": "code",
   "execution_count": 32,
   "metadata": {
    "collapsed": true
   },
   "outputs": [
    {
     "data": {
      "text/plain": [
       "<matplotlib.axes._subplots.AxesSubplot at 0x1c16ede8d0>"
      ]
     },
     "execution_count": 32,
     "metadata": {},
     "output_type": "execute_result"
    },
    {
     "data": {
      "image/png": "[encoded data removed]",
      "text/plain": [
       "<matplotlib.figure.Figure at 0x1c16b6b438>"
      ]
     },
     "metadata": {},
     "output_type": "display_data"
    }
   ],
   "source": [
    "# evaluate log-probability from a given distribution (without using a model)\n",
    "# http://docs.pymc.io/prob_dists.html#using-pymc-distributions-without-a-model\n",
    "from pymc3 import plots, Normal\n",
    "y = Normal.dist(mu=0, sd=1)\n",
    "plots.kdeplot(y.random(size=10000))"
   ]
  },
  {
   "cell_type": "markdown",
   "metadata": {},
   "source": [
    "### Using scipy.stats to plot distributions and histograms\n",
    "\n",
    "PyMC3 offers support for these distributions but you will find it's heavily geared toward inference.  For example there is no density function (continuous) and no probability mass function (discrete), just the log-probability.  Below is an example for the normal distribution - observe that the KDE (=kernel density estimate) plot is not especially accurate.\n",
    "\n",
    "Therefore to investige the distributions, you may find it easier to use [scipy.stats](https://docs.scipy.org/doc/scipy/reference/stats.html) as shown below the examples using pymc3.\n",
    "\n",
    "However, if you are running short on time, it's fine to look at wikipedia to get acquainted."
   ]
  },
  {
   "cell_type": "code",
   "execution_count": 33,
   "metadata": {
    "collapsed": true
   },
   "outputs": [
    {
     "data": {
      "image/png": "[encoded data removed]",
      "text/plain": [
       "<matplotlib.figure.Figure at 0x1c16f458d0>"
      ]
     },
     "metadata": {},
     "output_type": "display_data"
    }
   ],
   "source": [
    "# taken from here: https://docs.scipy.org/doc/scipy-0.16.1/reference/generated/scipy.stats.norm.html\n",
    "# NOTE: scipy stats uses weird names for parameters in the distributions, for example below for the normal distribution,\n",
    "# we have that 'loc' is mean value and 'scale' is standard deviation (sigma).  One needs to look into the documentation\n",
    "# in scipy.stats\n",
    "# \n",
    "from scipy.stats import norm\n",
    "import matplotlib.pyplot as plt\n",
    "fig = plt.figure(figsize=(10,6))\n",
    "ax = fig.gca()\n",
    "#fit, ax = plt.subplots(1, 1)\n",
    "legend = []\n",
    "for sigma in [1, 3, 5]:\n",
    "    x = np.linspace(norm.ppf(0.01,scale=sigma), norm.ppf(0.99,scale=sigma), 100)\n",
    "    ax.plot(x, norm.pdf(x,scale=sigma), lw=3, alpha=0.6, label='norm pdf')\n",
    "    legend.append('$\\sigma = %g$' % sigma)\n",
    "plt.legend(legend)\n",
    "plt.show()"
   ]
  },
  {
   "cell_type": "markdown",
   "metadata": {},
   "source": [
    "### Discrete example: binomial"
   ]
  },
  {
   "cell_type": "code",
   "execution_count": 34,
   "metadata": {
    "collapsed": true
   },
   "outputs": [
    {
     "data": {
      "image/png": "[encoded data removed]",
      "text/plain": [
       "<matplotlib.figure.Figure at 0x1c17c1d588>"
      ]
     },
     "metadata": {},
     "output_type": "display_data"
    }
   ],
   "source": [
    "from scipy.stats import binom\n",
    "import matplotlib.pyplot as plt\n",
    "\n",
    "n = 10 # our choice of number of tries for the binomial distribution\n",
    "fig = plt.figure(figsize=(10,6))\n",
    "ax = fig.gca()\n",
    "x = range(11) # we know the universe of possible values is 0..10\n",
    "\n",
    "legend = []\n",
    "for p in [0.1, 0.3, 0.6, 0.8]:\n",
    "    ax.plot(x, binom.pmf(x, n=n, p=p), lw=3, alpha=0.3, label='norm pdf')\n",
    "    r = binom.rvs(n=n, p=p, size=1000)\n",
    "    legend.append('$p=%g$' % p)\n",
    "plt.legend(legend)\n",
    "plt.show()"
   ]
  },
  {
   "cell_type": "markdown",
   "metadata": {},
   "source": [
    "## PW exercise\n",
    "Edit the above plots with more distributions from the selected set above to get a feel for them.\n",
    "\n",
    "Alternatively, Wikipedia is a fine plan B if you find it difficult to use the (non-intuitive) scipy package."
   ]
  },
  {
   "cell_type": "markdown",
   "metadata": {},
   "source": [
    "## References\n",
    "\n",
    "1. Salvatier, J., Wiecki, T. V., & Fonnesbeck, C. (2016). Probabilistic programming in Python using PyMC3. PeerJ Computer Science, 2(2), e55. http://doi.org/10.7717/peerj-cs.55\n",
    "2. Getting started with PyMC3 (Apache License). http://docs.pymc.io/notebooks/getting_started.html"
   ]
  }
 ],
 "metadata": {
  "anaconda-cloud": {},
  "kernelspec": {
   "display_name": "Python 3",
   "language": "python",
   "name": "python3"
  },
  "language_info": {
   "codemirror_mode": {
    "name": "ipython",
    "version": 3
   },
   "file_extension": ".py",
   "mimetype": "text/x-python",
   "name": "python",
   "nbconvert_exporter": "python",
   "pygments_lexer": "ipython3",
   "version": "3.6.4"
  },
  "latex_envs": {
   "bibliofile": "biblio.bib",
   "cite_by": "apalike",
   "current_citInitial": 1,
   "eqLabelWithNumbers": true,
   "eqNumInitial": 0
  }
 },
 "nbformat": 4,
 "nbformat_minor": 2
}
