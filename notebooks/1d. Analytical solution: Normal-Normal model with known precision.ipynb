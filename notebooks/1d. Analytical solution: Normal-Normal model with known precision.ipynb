{
 "cells": [
  {
   "cell_type": "markdown",
   "metadata": {},
   "source": [
    "# Analytical solution: Normal-Normal model with known precision"
   ]
  },
  {
   "cell_type": "code",
   "execution_count": 1,
   "metadata": {},
   "outputs": [],
   "source": [
    "from scipy.stats import norm\n",
    "import numpy as np\n",
    "import seaborn as sns; sns.set_context('notebook');\n",
    "import matplotlib.pyplot as plt\n",
    "%matplotlib inline"
   ]
  },
  {
   "cell_type": "markdown",
   "metadata": {},
   "source": [
    "In the last notebook we have solved the Beta-Binomial model analytically and found that a Binomial likelihood is conjugate with a Beta prior.  This means that the posterior distribution is also a Beta distribution but with updated parameters.\n",
    "\n",
    "In this case, we assume that we are interested in estimating some parameter $\\mu$ that we cannot observe directly but we can measure some estimate $X$ using a measurement device with a known and fixed variance (or precision, defined below) and that the measurement error is normally distributed.  We further assume that our prior on the value of the parameter is also normal with an assumed mean and precision.\n",
    "\n",
    "Using our assumptions and this one measurement, we want to obtain an estimate of $\\mu$."
   ]
  },
  {
   "cell_type": "markdown",
   "metadata": {},
   "source": [
    "## Parametrizing a Normal distribution\n",
    "A Normal distribution can be parametrized by a mean $\\mu$ and variance $\\sigma^2$ but alternatively (and less frequently) it can be parametrized by a mean $\n",
    "\\mu$ and precision $\\tau = \\sigma^{-2}$.\n",
    "\n",
    "Thus, instead of denoting $X \\sim {\\cal N}(\\mu,\\sigma^2)$, we write $X \\sim {\\cal N}(\\mu,\\tau)$."
   ]
  },
  {
   "cell_type": "markdown",
   "metadata": {},
   "source": [
    "## Formalizing the problem\n",
    "\n",
    "We are interested in estimating $\\mu$ given our prior assumptions and given the one observation $X$.  Note: we use the function $f$ to denote all densities which are distinguished according to their parameters.\n",
    "\n",
    "By assumption, we have\n",
    "\n",
    "$$f(\\mu) \\sim {\\cal N}(\\mu_0, \\tau_0),$$\n",
    "\n",
    "for some apriori chosen (assumed) $\\mu, \\tau_0$.  We also assume that the observation $X$ is distributed as\n",
    "\n",
    "$$f(X|\\mu) \\sim {\\cal N}(\\mu, \\tau),$$\n",
    "\n",
    "where again we assume that we know the precision $\\tau$ because the manufacturer states it (or the standard deviation) on the device.\n",
    "\n",
    "The question now is, what is the distribution of $\\mu|x$ given a measurement $x$.  By the Bayes theorem, we know that\n",
    "\n",
    "$$f(\\mu|X) \\propto f(X|\\mu)f(\\mu).$$"
   ]
  },
  {
   "cell_type": "markdown",
   "metadata": {},
   "source": [
    "The only parameter we are interested in is $\\mu$, so any multiplicative terms that don't contain $\\mu$ can be neglected in the following calculations, since the equation above requires that we preserve proportionality, not equality.  This is very important to remember as otherwise the proceedings can become very difficult in more complicated models.\n",
    "\n",
    "For example, although the full density of $f(\\mu)$ is\n",
    "\n",
    "$$f(\\mu) = \\sqrt{\\frac{\\tau_0}{2\\pi}} \\exp \\left ( -\\frac{\\tau_0}{2}(\\mu-\\mu_0)^2 \\right ),$$\n",
    "\n",
    "we can simplify this form by removing all apparent constant factors and writing\n",
    "\n",
    "$$f(\\mu) \\propto \\exp \\left ( -\\frac{\\tau_0}{2}(\\mu-\\mu_0)^2 \\right ),$$\n",
    "\n",
    "since even $\\tau_0$ is assumed constant."
   ]
  },
  {
   "cell_type": "markdown",
   "metadata": {},
   "source": [
    "In a similar vein, we can write\n",
    "\n",
    "$$f(X|\\mu) \\propto \\exp \\left ( -\\frac{\\tau}{2}(X-\\mu)^2 \\right ),$$\n",
    "\n",
    "which is also considerably simpler."
   ]
  },
  {
   "cell_type": "markdown",
   "metadata": {},
   "source": [
    "## Formal solution"
   ]
  },
  {
   "cell_type": "markdown",
   "metadata": {},
   "source": [
    "We can then write that\n",
    "\n",
    "$$f(\\mu|X) \\propto f(X|\\mu)f(\\mu) \\propto \\exp \\left ( -\\frac{\\tau}{2}(X-\\mu)^2 \\right ) \\exp \\left ( -\\frac{\\tau_0}{2}(\\mu-\\mu_0)^2 \\right ).$$\n",
    "\n",
    "The only thing left to do is to determine what form is this distribution. This is again a normal distribution but we must determine its mean value and precision given assumptions and measurements."
   ]
  },
  {
   "cell_type": "markdown",
   "metadata": {},
   "source": [
    "After merging both exponential terms, we only have one expression containing terms with $\\mu^2$,$\\mu$ and terms without $\\mu$:\n",
    "\n",
    "$$\\exp \\left ( -\\frac{\\tau}{2}(X-\\mu)^2 \\right ) \\exp \\left ( -\\frac{\\tau_0}{2}(\\mu-\\mu_0)^2 \\right ) = \\exp \\left ( -\\frac{\\tau}{2}(X-\\mu)^2 -\\frac{\\tau_0}{2}(\\mu-\\mu_0)^2 \\right ).$$\n",
    "\n",
    "This looks like the result could again be a normal distribution.  This leads us to consider completing the square and converting the entire expression into the form\n",
    "\n",
    "$$\\exp \\left ( -\\frac{\\tau_1}{2}(\\mu - \\mu_1)^2 \\right ).$$\n",
    "\n",
    "We could then conclude that $\\mu \\sim {\\cal N}(\\mu_1, \\tau_1)$.  The remaining question is how to identify $\\mu_1$ and $\\tau_1$."
   ]
  },
  {
   "cell_type": "markdown",
   "metadata": {},
   "source": [
    "Let us expand the expression inside the parentheses and collect terms that contain $\\mu^2$, $\\mu$ and neglect other terms.  Any terms that don't contain $\\mu$ can be considered constants, since they are summands inside an exponential function and thus equivalent to multiplication by a constant, which can be neglected as we noted above.\n",
    "\n",
    "$$-\\frac{\\tau}{2}(X-\\mu)^2 -\\frac{\\tau_0}{2}(\\mu-\\mu_0)^2$$\n",
    "\n",
    "We will only show one intermediate step but in fact the algebra is somewhat tedious.  Note: we use lower case $x$ for the actual measured value in the following formulas.\n",
    "\n",
    "$$-\\frac{\\tau_0+\\tau}{2} \\left [ \\mu^2 - 2\\mu\\frac{\\tau_0\\mu_0+\\tau x}{\\tau_0+\\tau} + \\frac{\\tau_0\\mu_0^2 + \\tau x^2}{\\tau_0+\\tau} \\right ]$$\n",
    "\n",
    "And this leads to:\n",
    "\n",
    "$$-\\frac{\\tau_0+\\tau}{2} \\left ( \\mu - \\frac{\\tau_0\\mu_0+\\tau x}{\\tau_0+\\tau} \\right )^2,$$\n",
    "\n",
    "where we neglect any terms that don't contain $\\mu$.\n",
    "\n",
    "From the form of the expression, we can conclude that:\n",
    "\n",
    "$$\\begin{array}{rcl}\n",
    "  \\tau_1 &=& \\tau_0 + \\tau \\\\\n",
    "  \\mu_1 &=& \\frac{\\tau_0\\mu_0+\\tau x}{\\tau_0+\\tau} \\\\\n",
    "  \\end{array}$$\n"
   ]
  },
  {
   "cell_type": "markdown",
   "metadata": {},
   "source": [
    "How do we interpret the result for $\\mu_1$? We can look at the final $\\mu$ as a precision-weighted sum of it's prior value $\\mu_0$ and the single obtained measurement $x$."
   ]
  },
  {
   "cell_type": "markdown",
   "metadata": {},
   "source": [
    "## Numerical test\n",
    "\n",
    "Let's look at a simple numerical model in PyMC3 that captures the same situation."
   ]
  },
  {
   "cell_type": "code",
   "execution_count": 2,
   "metadata": {},
   "outputs": [
    {
     "name": "stderr",
     "output_type": "stream",
     "text": [
      "/Users/vejmelka/Packages/anaconda/envs/bayes/lib/python3.6/site-packages/h5py/__init__.py:36: FutureWarning: Conversion of the second argument of issubdtype from `float` to `np.floating` is deprecated. In future, it will be treated as `np.float64 == np.dtype(float).type`.\n",
      "  from ._conv import register_converters as _register_converters\n"
     ]
    }
   ],
   "source": [
    "import pymc3 as pm"
   ]
  },
  {
   "cell_type": "code",
   "execution_count": 3,
   "metadata": {},
   "outputs": [],
   "source": [
    "mu0, tau0 = 1, 1  # prior parameters\n",
    "tau = 10 # let's assume that the measurement device is accurate (precision 10x prior)\n",
    "observed = [1.6] # the single measurement we have obtained\n",
    "\n",
    "with pm.Model() as norm2_model:\n",
    "    # NOTE: PyMC3 normally distributed variables will accept precision directly using keyword argument tau\n",
    "    mu = pm.Normal('mu', mu=mu0, tau=tau0) \n",
    "    x = pm.Normal('x', mu=mu, tau=tau, observed=observed)"
   ]
  },
  {
   "cell_type": "markdown",
   "metadata": {},
   "source": [
    "### Compute the MAP\n",
    "This will give us an estimate of the mode."
   ]
  },
  {
   "cell_type": "code",
   "execution_count": 4,
   "metadata": {},
   "outputs": [
    {
     "name": "stderr",
     "output_type": "stream",
     "text": [
      "logp = -2.4866, ||grad|| = 6: 100%|██████████| 4/4 [00:00<00:00, 41.52it/s]\n"
     ]
    }
   ],
   "source": [
    "with norm2_model:\n",
    "    model_map = pm.find_MAP()"
   ]
  },
  {
   "cell_type": "code",
   "execution_count": 5,
   "metadata": {},
   "outputs": [
    {
     "data": {
      "text/plain": [
       "{'mu': array(1.54545455)}"
      ]
     },
     "execution_count": 5,
     "metadata": {},
     "output_type": "execute_result"
    }
   ],
   "source": [
    "model_map"
   ]
  },
  {
   "cell_type": "markdown",
   "metadata": {},
   "source": [
    "### MCMC sampling\n",
    "Let us examine the entire posterior of $\\mu$ as estimated by PyMC3 using MCMC."
   ]
  },
  {
   "cell_type": "code",
   "execution_count": 6,
   "metadata": {},
   "outputs": [
    {
     "name": "stderr",
     "output_type": "stream",
     "text": [
      "Auto-assigning NUTS sampler...\n",
      "Initializing NUTS using jitter+adapt_diag...\n",
      "/Users/vejmelka/Packages/anaconda/envs/bayes/lib/python3.6/site-packages/pymc3/model.py:384: FutureWarning: Conversion of the second argument of issubdtype from `float` to `np.floating` is deprecated. In future, it will be treated as `np.float64 == np.dtype(float).type`.\n",
      "  if not np.issubdtype(var.dtype, float):\n",
      "Sequential sampling (1 chains in 1 job)\n",
      "NUTS: [mu]\n",
      "100%|██████████| 5000/5000 [00:02<00:00, 1951.24it/s]\n",
      "Only one chain was sampled, this makes it impossible to run some convergence checks\n"
     ]
    }
   ],
   "source": [
    "with norm2_model:\n",
    "    trace = pm.sample(draws=4000, tune=1000, chains=1)"
   ]
  },
  {
   "cell_type": "code",
   "execution_count": 7,
   "metadata": {},
   "outputs": [
    {
     "data": {
      "image/png": "[encoded data removed]",
      "text/plain": [
       "<Figure size 864x144 with 2 Axes>"
      ]
     },
     "metadata": {},
     "output_type": "display_data"
    }
   ],
   "source": [
    "_ = pm.traceplot(trace)"
   ]
  },
  {
   "cell_type": "markdown",
   "metadata": {},
   "source": [
    "## Comparison to analytical solution\n",
    "We compute the parameters of the analytical solution below and compare the posterior to that estimated numerically."
   ]
  },
  {
   "cell_type": "code",
   "execution_count": 8,
   "metadata": {},
   "outputs": [
    {
     "data": {
      "text/plain": [
       "(1.5454545454545454, 11)"
      ]
     },
     "execution_count": 8,
     "metadata": {},
     "output_type": "execute_result"
    }
   ],
   "source": [
    "# Analytical solution is a normal distribution with the following parameters:\n",
    "mu_1 = (mu0*tau0 + observed[0]*tau)/(tau0 + tau)\n",
    "tau_1 = tau0 + tau\n",
    "\n",
    "mu_1, tau_1"
   ]
  },
  {
   "cell_type": "code",
   "execution_count": 9,
   "metadata": {},
   "outputs": [
    {
     "name": "stderr",
     "output_type": "stream",
     "text": [
      "/Users/vejmelka/Packages/anaconda/envs/bayes/lib/python3.6/site-packages/matplotlib/axes/_axes.py:6462: UserWarning: The 'normed' kwarg is deprecated, and has been replaced by the 'density' kwarg.\n",
      "  warnings.warn(\"The 'normed' kwarg is deprecated, and has been \"\n"
     ]
    },
    {
     "data": {
      "image/png": "[encoded data removed]",
      "text/plain": [
       "<Figure size 864x432 with 1 Axes>"
      ]
     },
     "metadata": {},
     "output_type": "display_data"
    }
   ],
   "source": [
    "import matplotlib.pyplot as plt\n",
    "%matplotlib inline\n",
    "\n",
    "plt.figure(figsize=(12,6))\n",
    "sns.distplot(trace['mu'])\n",
    "z = np.linspace(0, 3, 100)\n",
    "plt.plot(z, norm.pdf(z, loc=mu_1, scale=tau_1**-0.5))\n",
    "plt.axvline(model_map['mu'], color='red')\n",
    "plt.legend(['true posterior', 'samples', 'MAP'])\n",
    "plt.title('Comparison of samples, kernel estimate and true posterior')\n",
    "plt.show()"
   ]
  },
  {
   "cell_type": "code",
   "execution_count": 10,
   "metadata": {},
   "outputs": [
    {
     "data": {
      "text/html": [
       "<div>\n",
       "<style scoped>\n",
       "    .dataframe tbody tr th:only-of-type {\n",
       "        vertical-align: middle;\n",
       "    }\n",
       "\n",
       "    .dataframe tbody tr th {\n",
       "        vertical-align: top;\n",
       "    }\n",
       "\n",
       "    .dataframe thead th {\n",
       "        text-align: right;\n",
       "    }\n",
       "</style>\n",
       "<table border=\"1\" class=\"dataframe\">\n",
       "  <thead>\n",
       "    <tr style=\"text-align: right;\">\n",
       "      <th></th>\n",
       "      <th>mean</th>\n",
       "      <th>sd</th>\n",
       "      <th>mc_error</th>\n",
       "      <th>hpd_2.5</th>\n",
       "      <th>hpd_97.5</th>\n",
       "    </tr>\n",
       "  </thead>\n",
       "  <tbody>\n",
       "    <tr>\n",
       "      <th>mu</th>\n",
       "      <td>1.540189</td>\n",
       "      <td>0.30126</td>\n",
       "      <td>0.008399</td>\n",
       "      <td>0.959992</td>\n",
       "      <td>2.139946</td>\n",
       "    </tr>\n",
       "  </tbody>\n",
       "</table>\n",
       "</div>"
      ],
      "text/plain": [
       "        mean       sd  mc_error   hpd_2.5  hpd_97.5\n",
       "mu  1.540189  0.30126  0.008399  0.959992  2.139946"
      ]
     },
     "execution_count": 10,
     "metadata": {},
     "output_type": "execute_result"
    }
   ],
   "source": [
    "# Let us look at some summary statistics of the posterior distribution\n",
    "pm.summary(trace)"
   ]
  },
  {
   "cell_type": "markdown",
   "metadata": {},
   "source": [
    "## Conclusion\n",
    "\n",
    "We have solved the normal likelihood with known precision, normal prior problem analytically and numerically."
   ]
  }
 ],
 "metadata": {
  "kernelspec": {
   "display_name": "Python 3",
   "language": "python",
   "name": "python3"
  },
  "language_info": {
   "codemirror_mode": {
    "name": "ipython",
    "version": 3
   },
   "file_extension": ".py",
   "mimetype": "text/x-python",
   "name": "python",
   "nbconvert_exporter": "python",
   "pygments_lexer": "ipython3",
   "version": "3.6.4"
  }
 },
 "nbformat": 4,
 "nbformat_minor": 2
}
